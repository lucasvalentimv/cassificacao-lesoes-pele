{
  "cells": [
    {
      "cell_type": "code",
      "execution_count": null,
      "metadata": {
        "id": "uypAndUb13e4"
      },
      "outputs": [],
      "source": [
        "import pandas as pd\n",
        "import numpy as np\n",
        "import matplotlib.pyplot as plt\n",
        "from sklearn.model_selection import train_test_split\n",
        "from sklearn.model_selection import StratifiedKFold\n",
        "from scipy.signal import savgol_filter\n",
        "from imblearn.under_sampling import RandomUnderSampler \n",
        "from imblearn.over_sampling import SVMSMOTE, ADASYN, SMOTE, RandomOverSampler\n",
        "from sklearn.preprocessing import StandardScaler\n",
        "from sklearn.decomposition import PCA\n",
        "from sklearn.ensemble import RandomForestClassifier\n",
        "from sklearn.metrics import balanced_accuracy_score\n",
        "from sklearn.svm import SVC\n",
        "from sklearn.ensemble import RandomForestClassifier\n",
        "from sklearn.ensemble import AdaBoostClassifier\n",
        "from sklearn.ensemble import BaggingClassifier\n",
        "from sklearn.neural_network import MLPClassifier\n",
        "\n",
        "from sklearn.tree import DecisionTreeClassifier\n",
        "from sklearn.naive_bayes import GaussianNB\n",
        "from sklearn.neighbors import KNeighborsClassifier \n",
        "\n",
        "from sklearn.base import BaseEstimator\n",
        "from sklearn.utils import resample\n",
        "import time\n",
        "from sklearn import datasets\n",
        "from sklearn.preprocessing import StandardScaler\n",
        "from sklearn.pipeline import Pipeline\n",
        "from sklearn.model_selection import cross_val_score\n",
        "from sklearn.model_selection import RepeatedStratifiedKFold\n",
        "from sklearn.model_selection import GridSearchCV\n",
        "from sklearn.metrics import confusion_matrix\n",
        "from sklearn.metrics import classification_report\n",
        "from sklearn.model_selection import cross_validate\n",
        "from xgboost import XGBClassifier\n",
        "from scipy.stats import kurtosis\n",
        "from scipy.stats import skew\n",
        "from sklearn.cross_decomposition import PLSRegression\n",
        "from sklearn.model_selection import KFold\n",
        "from sklearn.metrics import accuracy_score, precision_score, recall_score"
      ]
    },
    {
      "cell_type": "code",
      "execution_count": null,
      "metadata": {
        "id": "EEteVcj42H_v"
      },
      "outputs": [],
      "source": [
        "df = pd.read_csv('pad_2021_dados_rotulados.csv')"
      ]
    },
    {
      "cell_type": "code",
      "execution_count": null,
      "metadata": {
        "id": "OUmFzwuM2Uw-"
      },
      "outputs": [],
      "source": [
        "y = df.label\n",
        "X_raw = df.drop(columns=['index','Unnamed: 0',\t'Unnamed: 0.1','NÃºmero de sÃ©rie do instrumento',\n",
        "       'Temperatura', 'Notas', 'Carimpo de Tempo', 'numero_sus', 'patologia',\n",
        "       'label'])\n",
        "X_raw2 = df.groupby('numero_sus',as_index=False).mean().drop(columns=['index','Unnamed: 0',\n",
        "       'Temperatura', 'Notas', 'numero_sus',\n",
        "       'label'])\n",
        "y2 = df.groupby('numero_sus',as_index=False).mean()['label'].values\n",
        "y3 = df.groupby('numero_sus',as_index=False).mean()['label2'].values"
      ]
    },
    {
      "cell_type": "code",
      "execution_count": null,
      "metadata": {
        "id": "Ha3ntRqr2YMK"
      },
      "outputs": [],
      "source": [
        "X = pd.DataFrame(savgol_filter(X_raw, window_length=9, polyorder=2),columns=X_raw.columns.astype(float))\n",
        "X2 = pd.DataFrame(savgol_filter(X_raw2, window_length=9, polyorder=2),columns=X_raw.columns.astype(float))"
      ]
    },
    {
      "cell_type": "code",
      "execution_count": null,
      "metadata": {
        "id": "1qXmLgla2gnU"
      },
      "outputs": [],
      "source": [
        "def snv(input_data):\n",
        "    \"\"\"\n",
        "        :snv: A correction technique which is done on each\n",
        "        individual spectrum, a reference spectrum is not\n",
        "        required\n",
        "        :param input_data: Array of spectral data\n",
        "        :type input_data: DataFrame\n",
        "        \n",
        "        :returns: data_snv (ndarray): Scatter corrected spectra\n",
        "    \"\"\"\n",
        "    \n",
        "    input_data = np.asarray(input_data)\n",
        "    \n",
        "    # Define a new array and populate it with the corrected data  \n",
        "    data_snv = np.zeros_like(input_data)\n",
        "    for i in range(data_snv.shape[0]):\n",
        "        # Apply correction\n",
        "        data_snv[i,:] = (input_data[i,:] - np.mean(input_data[i,:])) / np.std(input_data[i,:])\n",
        "    \n",
        "    return data_snv"
      ]
    },
    {
      "cell_type": "code",
      "execution_count": null,
      "metadata": {
        "id": "GTneUL7v2jNA"
      },
      "outputs": [],
      "source": [
        "def windowing(vec, w, overlap):\n",
        "    overlap = 1 - overlap\n",
        "    line = []\n",
        "    for i in range(0,125,int((w*overlap))):\n",
        "        v = vec[i:int(i+(w*overlap))]\n",
        "        line += [np.mean(v),np.std(v),kurtosis(v),skew(v), np.amax(v), np.amin(v)]\n",
        "  \n",
        "    return line"
      ]
    },
    {
      "cell_type": "code",
      "execution_count": null,
      "metadata": {
        "id": "pwsS3-1G2k8g"
      },
      "outputs": [],
      "source": [
        "def get_dummy_matrix(labels):\n",
        "\n",
        "    unique_labels = np.unique(labels)\n",
        "\n",
        "    #if unique_labels.shape[0] > 0:\n",
        "    dummy_matrix = np.zeros((unique_labels.shape[0], labels.shape[0]))\n",
        "\n",
        "    for i in range(0, labels.shape[0]):\n",
        "        for j in range(0, unique_labels.shape[0]):\n",
        "            if (labels[i]) == j:\n",
        "                dummy_matrix[j][i] = 1\n",
        "            else:\n",
        "                dummy_matrix[j][i] = 0\n",
        "    return dummy_matrix"
      ]
    },
    {
      "cell_type": "code",
      "execution_count": null,
      "metadata": {
        "id": "aCEpZ6eo2nbs"
      },
      "outputs": [],
      "source": [
        "X = pd.DataFrame(snv(X2),columns=X_raw.columns.astype(float))"
      ]
    },
    {
      "cell_type": "code",
      "execution_count": null,
      "metadata": {
        "colab": {
          "base_uri": "https://localhost:8080/",
          "height": 312
        },
        "id": "wnle9nDr2tvU",
        "outputId": "dcc3f4bb-fed7-4e41-a6e2-07bd318fb704"
      },
      "outputs": [
        {
          "data": {
            "text/plain": [
              "Text(0.5, 1.0, 'Dados espectrais após SNV')"
            ]
          },
          "execution_count": 13,
          "metadata": {},
          "output_type": "execute_result"
        },
        {
          "data": {
            "image/png": "[encoded data removed]",
            "text/plain": [
              "<Figure size 432x288 with 1 Axes>"
            ]
          },
          "metadata": {
            "needs_background": "light"
          },
          "output_type": "display_data"
        }
      ],
      "source": [
        "fig = plt.figure()\n",
        "for i, row in X.iterrows():\n",
        "    if y[i] == 0:\n",
        "        plt.plot(X.columns,row,color='blue', label = 'benigno')\n",
        "    elif y[i] == 1:\n",
        "        plt.plot(X.columns,row,color='red', label = 'maligno')\n",
        "\n",
        "handles, labels = plt.gca().get_legend_handles_labels()\n",
        "by_label = dict(zip(labels, handles))\n",
        "plt.legend(by_label.values(), by_label.keys())\n",
        "plt.xlabel('Comprimento de onda')\n",
        "plt.ylabel('Nivel de absorção')\n",
        "plt.title('Dados espectrais após SNV')\n",
        "\n"
      ]
    },
    {
      "cell_type": "code",
      "execution_count": null,
      "metadata": {
        "colab": {
          "base_uri": "https://localhost:8080/",
          "height": 380
        },
        "id": "IhhkMCNG2xGW",
        "outputId": "bc065305-36ac-45f1-dbdf-33a3adfdd466"
      },
      "outputs": [
        {
          "ename": "KeyError",
          "evalue": "ignored",
          "output_type": "error",
          "traceback": [
            "\u001b[0;31m---------------------------------------------------------------------------\u001b[0m",
            "\u001b[0;31mKeyError\u001b[0m                                  Traceback (most recent call last)",
            "\u001b[0;32m<ipython-input-12-7a55c43ef4aa>\u001b[0m in \u001b[0;36m<module>\u001b[0;34m()\u001b[0m\n\u001b[1;32m      1\u001b[0m \u001b[0mb\u001b[0m \u001b[0;34m=\u001b[0m \u001b[0mX\u001b[0m\u001b[0;34m[\u001b[0m\u001b[0mX\u001b[0m\u001b[0;34m.\u001b[0m\u001b[0mindex\u001b[0m\u001b[0;34m.\u001b[0m\u001b[0misin\u001b[0m\u001b[0;34m(\u001b[0m\u001b[0mnp\u001b[0m\u001b[0;34m.\u001b[0m\u001b[0mwhere\u001b[0m\u001b[0;34m(\u001b[0m\u001b[0my\u001b[0m \u001b[0;34m==\u001b[0m \u001b[0;36m0\u001b[0m\u001b[0;34m)\u001b[0m\u001b[0;34m[\u001b[0m\u001b[0;36m0\u001b[0m\u001b[0;34m]\u001b[0m\u001b[0;34m)\u001b[0m\u001b[0;34m]\u001b[0m\u001b[0;34m.\u001b[0m\u001b[0mmean\u001b[0m\u001b[0;34m(\u001b[0m\u001b[0;34m)\u001b[0m\u001b[0;34m\u001b[0m\u001b[0;34m\u001b[0m\u001b[0m\n\u001b[0;32m----> 2\u001b[0;31m \u001b[0mplt\u001b[0m\u001b[0;34m.\u001b[0m\u001b[0mplot\u001b[0m\u001b[0;34m(\u001b[0m\u001b[0mX\u001b[0m\u001b[0;34m.\u001b[0m\u001b[0mdrop\u001b[0m\u001b[0;34m(\u001b[0m\u001b[0mcolumns\u001b[0m\u001b[0;34m=\u001b[0m\u001b[0;34m'id'\u001b[0m\u001b[0;34m)\u001b[0m\u001b[0;34m.\u001b[0m\u001b[0mcolumns\u001b[0m\u001b[0;34m,\u001b[0m\u001b[0mb\u001b[0m\u001b[0;34m,\u001b[0m\u001b[0mcolor\u001b[0m\u001b[0;34m=\u001b[0m\u001b[0;34m'blue'\u001b[0m\u001b[0;34m,\u001b[0m \u001b[0mlabel\u001b[0m \u001b[0;34m=\u001b[0m \u001b[0;34m'benigno'\u001b[0m\u001b[0;34m)\u001b[0m\u001b[0;34m\u001b[0m\u001b[0;34m\u001b[0m\u001b[0m\n\u001b[0m\u001b[1;32m      3\u001b[0m \u001b[0mm\u001b[0m \u001b[0;34m=\u001b[0m \u001b[0mX\u001b[0m\u001b[0;34m[\u001b[0m\u001b[0mX\u001b[0m\u001b[0;34m.\u001b[0m\u001b[0mindex\u001b[0m\u001b[0;34m.\u001b[0m\u001b[0misin\u001b[0m\u001b[0;34m(\u001b[0m\u001b[0mnp\u001b[0m\u001b[0;34m.\u001b[0m\u001b[0mwhere\u001b[0m\u001b[0;34m(\u001b[0m\u001b[0my\u001b[0m \u001b[0;34m==\u001b[0m \u001b[0;36m1\u001b[0m\u001b[0;34m)\u001b[0m\u001b[0;34m[\u001b[0m\u001b[0;36m0\u001b[0m\u001b[0;34m]\u001b[0m\u001b[0;34m)\u001b[0m\u001b[0;34m]\u001b[0m\u001b[0;34m.\u001b[0m\u001b[0mmean\u001b[0m\u001b[0;34m(\u001b[0m\u001b[0;34m)\u001b[0m\u001b[0;34m\u001b[0m\u001b[0;34m\u001b[0m\u001b[0m\n\u001b[1;32m      4\u001b[0m \u001b[0mplt\u001b[0m\u001b[0;34m.\u001b[0m\u001b[0mplot\u001b[0m\u001b[0;34m(\u001b[0m\u001b[0mX\u001b[0m\u001b[0;34m.\u001b[0m\u001b[0mdrop\u001b[0m\u001b[0;34m(\u001b[0m\u001b[0mcolumns\u001b[0m\u001b[0;34m=\u001b[0m\u001b[0;34m'id'\u001b[0m\u001b[0;34m)\u001b[0m\u001b[0;34m.\u001b[0m\u001b[0mcolumns\u001b[0m\u001b[0;34m,\u001b[0m\u001b[0mm\u001b[0m\u001b[0;34m,\u001b[0m\u001b[0mcolor\u001b[0m\u001b[0;34m=\u001b[0m\u001b[0;34m'red'\u001b[0m\u001b[0;34m,\u001b[0m \u001b[0mlabel\u001b[0m \u001b[0;34m=\u001b[0m \u001b[0;34m'maligno'\u001b[0m\u001b[0;34m)\u001b[0m\u001b[0;34m\u001b[0m\u001b[0;34m\u001b[0m\u001b[0m\n\u001b[1;32m      5\u001b[0m \u001b[0mplt\u001b[0m\u001b[0;34m.\u001b[0m\u001b[0mxlabel\u001b[0m\u001b[0;34m(\u001b[0m\u001b[0;34m'Comprimento de onda'\u001b[0m\u001b[0;34m)\u001b[0m\u001b[0;34m\u001b[0m\u001b[0;34m\u001b[0m\u001b[0m\n",
            "\u001b[0;32m/usr/local/lib/python3.7/dist-packages/pandas/util/_decorators.py\u001b[0m in \u001b[0;36mwrapper\u001b[0;34m(*args, **kwargs)\u001b[0m\n\u001b[1;32m    309\u001b[0m                     \u001b[0mstacklevel\u001b[0m\u001b[0;34m=\u001b[0m\u001b[0mstacklevel\u001b[0m\u001b[0;34m,\u001b[0m\u001b[0;34m\u001b[0m\u001b[0;34m\u001b[0m\u001b[0m\n\u001b[1;32m    310\u001b[0m                 )\n\u001b[0;32m--> 311\u001b[0;31m             \u001b[0;32mreturn\u001b[0m \u001b[0mfunc\u001b[0m\u001b[0;34m(\u001b[0m\u001b[0;34m*\u001b[0m\u001b[0margs\u001b[0m\u001b[0;34m,\u001b[0m \u001b[0;34m**\u001b[0m\u001b[0mkwargs\u001b[0m\u001b[0;34m)\u001b[0m\u001b[0;34m\u001b[0m\u001b[0;34m\u001b[0m\u001b[0m\n\u001b[0m\u001b[1;32m    312\u001b[0m \u001b[0;34m\u001b[0m\u001b[0m\n\u001b[1;32m    313\u001b[0m         \u001b[0;32mreturn\u001b[0m \u001b[0mwrapper\u001b[0m\u001b[0;34m\u001b[0m\u001b[0;34m\u001b[0m\u001b[0m\n",
            "\u001b[0;32m/usr/local/lib/python3.7/dist-packages/pandas/core/frame.py\u001b[0m in \u001b[0;36mdrop\u001b[0;34m(self, labels, axis, index, columns, level, inplace, errors)\u001b[0m\n\u001b[1;32m   4911\u001b[0m             \u001b[0mlevel\u001b[0m\u001b[0;34m=\u001b[0m\u001b[0mlevel\u001b[0m\u001b[0;34m,\u001b[0m\u001b[0;34m\u001b[0m\u001b[0;34m\u001b[0m\u001b[0m\n\u001b[1;32m   4912\u001b[0m             \u001b[0minplace\u001b[0m\u001b[0;34m=\u001b[0m\u001b[0minplace\u001b[0m\u001b[0;34m,\u001b[0m\u001b[0;34m\u001b[0m\u001b[0;34m\u001b[0m\u001b[0m\n\u001b[0;32m-> 4913\u001b[0;31m             \u001b[0merrors\u001b[0m\u001b[0;34m=\u001b[0m\u001b[0merrors\u001b[0m\u001b[0;34m,\u001b[0m\u001b[0;34m\u001b[0m\u001b[0;34m\u001b[0m\u001b[0m\n\u001b[0m\u001b[1;32m   4914\u001b[0m         )\n\u001b[1;32m   4915\u001b[0m \u001b[0;34m\u001b[0m\u001b[0m\n",
            "\u001b[0;32m/usr/local/lib/python3.7/dist-packages/pandas/core/generic.py\u001b[0m in \u001b[0;36mdrop\u001b[0;34m(self, labels, axis, index, columns, level, inplace, errors)\u001b[0m\n\u001b[1;32m   4148\u001b[0m         \u001b[0;32mfor\u001b[0m \u001b[0maxis\u001b[0m\u001b[0;34m,\u001b[0m \u001b[0mlabels\u001b[0m \u001b[0;32min\u001b[0m \u001b[0maxes\u001b[0m\u001b[0;34m.\u001b[0m\u001b[0mitems\u001b[0m\u001b[0;34m(\u001b[0m\u001b[0;34m)\u001b[0m\u001b[0;34m:\u001b[0m\u001b[0;34m\u001b[0m\u001b[0;34m\u001b[0m\u001b[0m\n\u001b[1;32m   4149\u001b[0m             \u001b[0;32mif\u001b[0m \u001b[0mlabels\u001b[0m \u001b[0;32mis\u001b[0m \u001b[0;32mnot\u001b[0m \u001b[0;32mNone\u001b[0m\u001b[0;34m:\u001b[0m\u001b[0;34m\u001b[0m\u001b[0;34m\u001b[0m\u001b[0m\n\u001b[0;32m-> 4150\u001b[0;31m                 \u001b[0mobj\u001b[0m \u001b[0;34m=\u001b[0m \u001b[0mobj\u001b[0m\u001b[0;34m.\u001b[0m\u001b[0m_drop_axis\u001b[0m\u001b[0;34m(\u001b[0m\u001b[0mlabels\u001b[0m\u001b[0;34m,\u001b[0m \u001b[0maxis\u001b[0m\u001b[0;34m,\u001b[0m \u001b[0mlevel\u001b[0m\u001b[0;34m=\u001b[0m\u001b[0mlevel\u001b[0m\u001b[0;34m,\u001b[0m \u001b[0merrors\u001b[0m\u001b[0;34m=\u001b[0m\u001b[0merrors\u001b[0m\u001b[0;34m)\u001b[0m\u001b[0;34m\u001b[0m\u001b[0;34m\u001b[0m\u001b[0m\n\u001b[0m\u001b[1;32m   4151\u001b[0m \u001b[0;34m\u001b[0m\u001b[0m\n\u001b[1;32m   4152\u001b[0m         \u001b[0;32mif\u001b[0m \u001b[0minplace\u001b[0m\u001b[0;34m:\u001b[0m\u001b[0;34m\u001b[0m\u001b[0;34m\u001b[0m\u001b[0m\n",
            "\u001b[0;32m/usr/local/lib/python3.7/dist-packages/pandas/core/generic.py\u001b[0m in \u001b[0;36m_drop_axis\u001b[0;34m(self, labels, axis, level, errors)\u001b[0m\n\u001b[1;32m   4183\u001b[0m                 \u001b[0mnew_axis\u001b[0m \u001b[0;34m=\u001b[0m \u001b[0maxis\u001b[0m\u001b[0;34m.\u001b[0m\u001b[0mdrop\u001b[0m\u001b[0;34m(\u001b[0m\u001b[0mlabels\u001b[0m\u001b[0;34m,\u001b[0m \u001b[0mlevel\u001b[0m\u001b[0;34m=\u001b[0m\u001b[0mlevel\u001b[0m\u001b[0;34m,\u001b[0m \u001b[0merrors\u001b[0m\u001b[0;34m=\u001b[0m\u001b[0merrors\u001b[0m\u001b[0;34m)\u001b[0m\u001b[0;34m\u001b[0m\u001b[0;34m\u001b[0m\u001b[0m\n\u001b[1;32m   4184\u001b[0m             \u001b[0;32melse\u001b[0m\u001b[0;34m:\u001b[0m\u001b[0;34m\u001b[0m\u001b[0;34m\u001b[0m\u001b[0m\n\u001b[0;32m-> 4185\u001b[0;31m                 \u001b[0mnew_axis\u001b[0m \u001b[0;34m=\u001b[0m \u001b[0maxis\u001b[0m\u001b[0;34m.\u001b[0m\u001b[0mdrop\u001b[0m\u001b[0;34m(\u001b[0m\u001b[0mlabels\u001b[0m\u001b[0;34m,\u001b[0m \u001b[0merrors\u001b[0m\u001b[0;34m=\u001b[0m\u001b[0merrors\u001b[0m\u001b[0;34m)\u001b[0m\u001b[0;34m\u001b[0m\u001b[0;34m\u001b[0m\u001b[0m\n\u001b[0m\u001b[1;32m   4186\u001b[0m             \u001b[0mresult\u001b[0m \u001b[0;34m=\u001b[0m \u001b[0mself\u001b[0m\u001b[0;34m.\u001b[0m\u001b[0mreindex\u001b[0m\u001b[0;34m(\u001b[0m\u001b[0;34m**\u001b[0m\u001b[0;34m{\u001b[0m\u001b[0maxis_name\u001b[0m\u001b[0;34m:\u001b[0m \u001b[0mnew_axis\u001b[0m\u001b[0;34m}\u001b[0m\u001b[0;34m)\u001b[0m\u001b[0;34m\u001b[0m\u001b[0;34m\u001b[0m\u001b[0m\n\u001b[1;32m   4187\u001b[0m \u001b[0;34m\u001b[0m\u001b[0m\n",
            "\u001b[0;32m/usr/local/lib/python3.7/dist-packages/pandas/core/indexes/base.py\u001b[0m in \u001b[0;36mdrop\u001b[0;34m(self, labels, errors)\u001b[0m\n\u001b[1;32m   6015\u001b[0m         \u001b[0;32mif\u001b[0m \u001b[0mmask\u001b[0m\u001b[0;34m.\u001b[0m\u001b[0many\u001b[0m\u001b[0;34m(\u001b[0m\u001b[0;34m)\u001b[0m\u001b[0;34m:\u001b[0m\u001b[0;34m\u001b[0m\u001b[0;34m\u001b[0m\u001b[0m\n\u001b[1;32m   6016\u001b[0m             \u001b[0;32mif\u001b[0m \u001b[0merrors\u001b[0m \u001b[0;34m!=\u001b[0m \u001b[0;34m\"ignore\"\u001b[0m\u001b[0;34m:\u001b[0m\u001b[0;34m\u001b[0m\u001b[0;34m\u001b[0m\u001b[0m\n\u001b[0;32m-> 6017\u001b[0;31m                 \u001b[0;32mraise\u001b[0m \u001b[0mKeyError\u001b[0m\u001b[0;34m(\u001b[0m\u001b[0;34mf\"{labels[mask]} not found in axis\"\u001b[0m\u001b[0;34m)\u001b[0m\u001b[0;34m\u001b[0m\u001b[0;34m\u001b[0m\u001b[0m\n\u001b[0m\u001b[1;32m   6018\u001b[0m             \u001b[0mindexer\u001b[0m \u001b[0;34m=\u001b[0m \u001b[0mindexer\u001b[0m\u001b[0;34m[\u001b[0m\u001b[0;34m~\u001b[0m\u001b[0mmask\u001b[0m\u001b[0;34m]\u001b[0m\u001b[0;34m\u001b[0m\u001b[0;34m\u001b[0m\u001b[0m\n\u001b[1;32m   6019\u001b[0m         \u001b[0;32mreturn\u001b[0m \u001b[0mself\u001b[0m\u001b[0;34m.\u001b[0m\u001b[0mdelete\u001b[0m\u001b[0;34m(\u001b[0m\u001b[0mindexer\u001b[0m\u001b[0;34m)\u001b[0m\u001b[0;34m\u001b[0m\u001b[0;34m\u001b[0m\u001b[0m\n",
            "\u001b[0;31mKeyError\u001b[0m: \"['id'] not found in axis\""
          ]
        }
      ],
      "source": [
        "b = X[X.index.isin(np.where(y == 0)[0])].mean()\n",
        "plt.plot(X.drop(columns='id').columns,b,color='blue', label = 'benigno')\n",
        "m = X[X.index.isin(np.where(y == 1)[0])].mean()\n",
        "plt.plot(X.drop(columns='id').columns,m,color='red', label = 'maligno')\n",
        "plt.xlabel('Comprimento de onda')\n",
        "plt.ylabel('Nivel de absorção')\n",
        "handles, labels = plt.gca().get_legend_handles_labels()\n",
        "by_label = dict(zip(labels, handles))\n",
        "plt.legend(by_label.values(), by_label.keys())"
      ]
    },
    {
      "cell_type": "markdown",
      "metadata": {
        "id": "kJ9UBMJiUxJV"
      },
      "source": [
        "PCA"
      ]
    },
    {
      "cell_type": "code",
      "execution_count": null,
      "metadata": {
        "colab": {
          "base_uri": "https://localhost:8080/",
          "height": 265
        },
        "id": "EthswCW0XEom",
        "outputId": "01fbbf0a-3f67-4d62-8419-7edbdc76453a"
      },
      "outputs": [
        {
          "data": {
            "image/png": "[encoded data removed]",
            "text/plain": [
              "<Figure size 432x288 with 1 Axes>"
            ]
          },
          "metadata": {
            "needs_background": "light"
          },
          "output_type": "display_data"
        }
      ],
      "source": [
        "pca = PCA(n_components=2)\n",
        "X_pca = pca.fit_transform(X_raw)\n",
        "\n",
        "for i in range(X2.shape[0]):\n",
        "  if y[i] == 0:\n",
        "    plt.scatter(X_pca[i,0],X_pca[i,1],color='blue')\n",
        "  else:\n",
        "    plt.scatter(X_pca[i,0],X_pca[i,1],color='red')"
      ]
    },
    {
      "cell_type": "code",
      "execution_count": null,
      "metadata": {
        "colab": {
          "base_uri": "https://localhost:8080/",
          "height": 269
        },
        "id": "SZgZk3yXXa-w",
        "outputId": "18118ac0-a8b8-426b-e5ce-bd9371341d8a"
      },
      "outputs": [
        {
          "data": {
            "image/png": "[encoded data removed]",
            "text/plain": [
              "<Figure size 432x288 with 1 Axes>"
            ]
          },
          "metadata": {
            "needs_background": "light"
          },
          "output_type": "display_data"
        }
      ],
      "source": [
        "pca = PCA(n_components=2)\n",
        "X_pca = pca.fit_transform(X_25)\n",
        "plt.xlim(-2,2)\n",
        "plt.ylim(-1,1)\n",
        "for i in range(X2.shape[0]):\n",
        "  if y[i] == 0:\n",
        "    plt.scatter(X_pca[i,0],X_pca[i,1],color='blue')\n",
        "  else:\n",
        "    plt.scatter(X_pca[i,0],X_pca[i,1],color='red')"
      ]
    },
    {
      "cell_type": "markdown",
      "metadata": {
        "id": "DQeB2A6qW0jg"
      },
      "source": [
        "TSNE"
      ]
    },
    {
      "cell_type": "code",
      "execution_count": null,
      "metadata": {
        "colab": {
          "base_uri": "https://localhost:8080/",
          "height": 296
        },
        "id": "Rnea1020Uyyu",
        "outputId": "d194c1dd-e8c3-4f54-8734-9884604e3e59"
      },
      "outputs": [
        {
          "data": {
            "text/plain": [
              "<matplotlib.legend.Legend at 0x7f1547e6cb10>"
            ]
          },
          "execution_count": 18,
          "metadata": {},
          "output_type": "execute_result"
        },
        {
          "data": {
            "image/png": "[encoded data removed]",
            "text/plain": [
              "<Figure size 432x288 with 1 Axes>"
            ]
          },
          "metadata": {
            "needs_background": "light"
          },
          "output_type": "display_data"
        }
      ],
      "source": [
        "from sklearn.manifold import TSNE\n",
        "X_embedded = TSNE(n_components=2,learning_rate='auto', init='random').fit_transform(X_raw)\n",
        "for i in range(X2.shape[0]):\n",
        "  if y[i] == 0:\n",
        "    plt.scatter(X_embedded[i,0],X_embedded[i,1],color='blue', label = 'benigno')\n",
        "  else:\n",
        "    plt.scatter(X_embedded[i,0],X_embedded[i,1],color='red', label = 'maligno')\n",
        "plt.xlabel('Componente 1')\n",
        "plt.ylabel('Componente 2')\n",
        "handles, labels = plt.gca().get_legend_handles_labels()\n",
        "by_label = dict(zip(labels, handles))\n",
        "plt.legend(by_label.values(), by_label.keys())"
      ]
    },
    {
      "cell_type": "code",
      "execution_count": null,
      "metadata": {
        "colab": {
          "base_uri": "https://localhost:8080/",
          "height": 351
        },
        "id": "JY5GBke3gyM7",
        "outputId": "67d563e7-66fc-4bcf-d436-36cc7e4066ac"
      },
      "outputs": [
        {
          "name": "stderr",
          "output_type": "stream",
          "text": [
            "/usr/local/lib/python3.7/dist-packages/sklearn/utils/validation.py:1692: FutureWarning: Feature names only support names that are all strings. Got feature names with dtypes: ['float']. An error will be raised in 1.2.\n",
            "  FutureWarning,\n"
          ]
        },
        {
          "data": {
            "text/plain": [
              "<matplotlib.legend.Legend at 0x7f15481f12d0>"
            ]
          },
          "execution_count": 21,
          "metadata": {},
          "output_type": "execute_result"
        },
        {
          "data": {
            "image/png": "[encoded data removed]",
            "text/plain": [
              "<Figure size 432x288 with 1 Axes>"
            ]
          },
          "metadata": {
            "needs_background": "light"
          },
          "output_type": "display_data"
        }
      ],
      "source": [
        "from sklearn.manifold import TSNE\n",
        "X_embedded = TSNE(n_components=2,learning_rate='auto', init='random').fit_transform(X)\n",
        "for i in range(X2.shape[0]):\n",
        "  if y[i] == 0:\n",
        "    plt.scatter(X_embedded[i,0],X_embedded[i,1],color='blue', label = 'benigno')\n",
        "  else:\n",
        "    plt.scatter(X_embedded[i,0],X_embedded[i,1],color='red', label = 'maligno')\n",
        "plt.xlabel('Componente 1')\n",
        "plt.ylabel('Componente 2')\n",
        "handles, labels = plt.gca().get_legend_handles_labels()\n",
        "by_label = dict(zip(labels, handles))\n",
        "plt.legend(by_label.values(), by_label.keys())"
      ]
    },
    {
      "cell_type": "code",
      "execution_count": null,
      "metadata": {
        "colab": {
          "base_uri": "https://localhost:8080/",
          "height": 296
        },
        "id": "yTbRjm2yWsP1",
        "outputId": "7c0f7130-2e5d-4b7e-ca06-6dbe6b4fab2a"
      },
      "outputs": [
        {
          "data": {
            "text/plain": [
              "<matplotlib.legend.Legend at 0x7f1546f4cc50>"
            ]
          },
          "execution_count": 27,
          "metadata": {},
          "output_type": "execute_result"
        },
        {
          "data": {
            "image/png": "[encoded data removed]",
            "text/plain": [
              "<Figure size 432x288 with 1 Axes>"
            ]
          },
          "metadata": {
            "needs_background": "light"
          },
          "output_type": "display_data"
        }
      ],
      "source": [
        "from sklearn.manifold import TSNE\n",
        "X_embedded = TSNE(n_components=2,learning_rate='auto', init='random').fit_transform(X_25)\n",
        "for i in range(X2.shape[0]):\n",
        "  if y[i] == 0:\n",
        "    plt.scatter(X_embedded[i,0],X_embedded[i,1],color='blue', label = 'benigno')\n",
        "  else:\n",
        "    plt.scatter(X_embedded[i,0],X_embedded[i,1],color='red', label = 'maligno')\n",
        "plt.xlabel('Componente 1')\n",
        "plt.ylabel('Componente 2')\n",
        "handles, labels = plt.gca().get_legend_handles_labels()\n",
        "by_label = dict(zip(labels, handles))\n",
        "plt.legend(by_label.values(), by_label.keys())"
      ]
    },
    {
      "cell_type": "code",
      "execution_count": null,
      "metadata": {
        "id": "9JEZYCaV3ABA"
      },
      "outputs": [],
      "source": [
        "X_50 = np.apply_along_axis(windowing,1,X, w=50,overlap=0.5)\n",
        "X_25 = np.apply_along_axis(windowing,1,X, w=25,overlap=0.5)"
      ]
    },
    {
      "cell_type": "code",
      "execution_count": null,
      "metadata": {
        "id": "vcDKCgQy6xhj"
      },
      "outputs": [],
      "source": [
        "X['id']= df.numero_sus"
      ]
    },
    {
      "cell_type": "code",
      "execution_count": null,
      "metadata": {
        "id": "vat4T3743hRR"
      },
      "outputs": [],
      "source": [
        "numero_sus =  df.groupby('numero_sus',as_index=False).mean()['numero_sus']\n",
        "y_numero_sus = df.groupby('numero_sus',as_index=False).mean()['label']"
      ]
    },
    {
      "cell_type": "code",
      "execution_count": null,
      "metadata": {
        "id": "imVhrVqa6wfy"
      },
      "outputs": [],
      "source": [
        "cols = X.drop(columns='id').columns"
      ]
    },
    {
      "cell_type": "code",
      "execution_count": null,
      "metadata": {
        "colab": {
          "base_uri": "https://localhost:8080/"
        },
        "id": "UiQRAh9l6636",
        "outputId": "a3d5e8ee-7b31-4435-f5c3-9acfaf3a4e56"
      },
      "outputs": [
        {
          "data": {
            "text/plain": [
              "Index([   908.1,  914.294,  920.489,  926.683,  932.877,  939.072,  945.266,\n",
              "         951.46,  957.655,  963.849,\n",
              "       ...\n",
              "       1620.451, 1626.645, 1632.839, 1639.034, 1645.228, 1651.423, 1657.617,\n",
              "       1663.811, 1670.006,   1676.2],\n",
              "      dtype='object', length=125)"
            ]
          },
          "execution_count": 31,
          "metadata": {},
          "output_type": "execute_result"
        }
      ],
      "source": [
        "cols"
      ]
    },
    {
      "cell_type": "markdown",
      "metadata": {
        "id": "gGARVGtHAS_S"
      },
      "source": [
        "**preprocessado**"
      ]
    },
    {
      "cell_type": "markdown",
      "metadata": {
        "id": "umx-XbNhAMzu"
      },
      "source": [
        "**svm**"
      ]
    },
    {
      "cell_type": "code",
      "execution_count": null,
      "metadata": {
        "colab": {
          "base_uri": "https://localhost:8080/"
        },
        "id": "xAqu5Xc03hU4",
        "outputId": "d8d4add2-a9ed-4e27-d786-953386091345"
      },
      "outputs": [
        {
          "name": "stdout",
          "output_type": "stream",
          "text": [
            "bacc: 0.512361111111111 +- 0.14974927605505262, acc: 0.5723809523809523 +- 0.11561658949820208, pr: 0.7516696920798644 +- 0.09909147482983942, rec: 0.6247222222222222 +- 0.15029395065982618\n"
          ]
        }
      ],
      "source": [
        "kf = StratifiedKFold(n_splits=5, shuffle=False)\n",
        "\n",
        "bacc_per_fold = []\n",
        "acc_per_fold = []\n",
        "pre_per_fold = []\n",
        "rec_per_fold = []\n",
        "cm = []\n",
        "hp = []\n",
        "\n",
        "for train_index, test_index in kf.split(numero_sus, y_numero_sus):\n",
        "    index_train_sus, index_test_sus = X.id.isin(numero_sus[train_index]), X.id.isin(numero_sus[test_index])\n",
        "    X_train, y_train = X.loc[index_train_sus,cols], y[index_train_sus]\n",
        "    X_test, y_test = X.loc[index_test_sus,cols], y[index_test_sus]\n",
        "\n",
        "    rus = RandomUnderSampler(random_state=42)\n",
        "    X_train, y_train = rus.fit_resample(X_train, y_train)\n",
        "    \n",
        "    grade={'C':[1,10,100,1000],\n",
        "       'gamma':[1,0.1,0.001,0.0001], \n",
        "       'kernel':['linear','rbf']}\n",
        "\n",
        "    model = SVC()\n",
        "    gs = GridSearchCV(estimator=model, param_grid = grade,\n",
        "                  scoring='balanced_accuracy', cv = 5)\n",
        "    gs.fit(X_train, y_train)\n",
        "    \n",
        "    pred = gs.predict(X_test)\n",
        "    \n",
        "    hp.append(gs.best_params_)\n",
        "    cm.append(confusion_matrix(y_test, pred))\n",
        "    bacc_per_fold.append(balanced_accuracy_score(y_test, pred))\n",
        "    acc_per_fold.append(accuracy_score(y_test, pred))\n",
        "    pre_per_fold.append(precision_score(y_test, pred))\n",
        "    rec_per_fold.append(recall_score(y_test, pred))\n",
        "\n",
        "print(\"bacc: {} +- {}, acc: {} +- {}, pr: {} +- {}, rec: {} +- {}\".format(np.mean(bacc_per_fold), np.std(bacc_per_fold),np.mean(acc_per_fold), np.std(acc_per_fold),\n",
        "                                                              np.mean(pre_per_fold), np.std(pre_per_fold),\n",
        "                                                              np.mean(rec_per_fold), np.std(rec_per_fold)))"
      ]
    },
    {
      "cell_type": "code",
      "execution_count": null,
      "metadata": {
        "colab": {
          "base_uri": "https://localhost:8080/"
        },
        "id": "dP2iKN-P-Sp_",
        "outputId": "253dc371-320c-4169-a4ec-caa671221c3e"
      },
      "outputs": [
        {
          "name": "stdout",
          "output_type": "stream",
          "text": [
            "list cm: [array([[ 9,  9],\n",
            "       [21, 24]]), array([[ 9,  9],\n",
            "       [28, 17]]), array([[ 0, 15],\n",
            "       [10, 38]]), array([[ 2, 13],\n",
            "       [15, 33]]), array([[13,  2],\n",
            "       [12, 33]])] \n",
            " cm: [[ 33  48]\n",
            " [ 86 145]]\n",
            "hiperparametros: [{'C': 1, 'gamma': 0.1, 'kernel': 'rbf'}, {'C': 1000, 'gamma': 1, 'kernel': 'rbf'}, {'C': 1000, 'gamma': 1, 'kernel': 'rbf'}, {'C': 100, 'gamma': 0.001, 'kernel': 'rbf'}, {'C': 100, 'gamma': 1, 'kernel': 'rbf'}]\n",
            "bacc: [0.5166666666666666, 0.4388888888888889, 0.3958333333333333, 0.41041666666666665, 0.8], acc: [0.5238095238095238, 0.4126984126984127, 0.6031746031746031, 0.5555555555555556, 0.7666666666666667], pr: [0.7272727272727273, 0.6538461538461539, 0.7169811320754716, 0.717391304347826, 0.9428571428571428], rec: [0.5333333333333333, 0.37777777777777777, 0.7916666666666666, 0.6875, 0.7333333333333333]\n"
          ]
        }
      ],
      "source": [
        "print('list cm: {} \\n cm: {}'.format(cm, sum(cm)))\n",
        "print('hiperparametros: {}'.format(hp))\n",
        "print(\"bacc: {}, acc: {}, pr: {}, rec: {}\".format(bacc_per_fold,acc_per_fold,pre_per_fold,rec_per_fold))"
      ]
    },
    {
      "cell_type": "code",
      "execution_count": null,
      "metadata": {
        "id": "2M6GXjg1AZHL"
      },
      "outputs": [],
      "source": []
    },
    {
      "cell_type": "markdown",
      "metadata": {
        "id": "G4NMHupfAZO_"
      },
      "source": [
        "**knn**"
      ]
    },
    {
      "cell_type": "code",
      "execution_count": null,
      "metadata": {
        "colab": {
          "base_uri": "https://localhost:8080/"
        },
        "id": "O8KGfW9mAZO_",
        "outputId": "dd180278-5e9b-4284-e65d-f68a5de8ade6"
      },
      "outputs": [
        {
          "name": "stdout",
          "output_type": "stream",
          "text": [
            "bacc: 0.47430555555555554 +- 0.17903742108327003, acc: 0.5366666666666667 +- 0.09138281482892144, pr: 0.7449601016587872 +- 0.131965991455099, rec: 0.6019444444444444 +- 0.051306991798461606\n"
          ]
        }
      ],
      "source": [
        "kf = StratifiedKFold(n_splits=5, shuffle=False)\n",
        "\n",
        "bacc_per_fold = []\n",
        "acc_per_fold = []\n",
        "pre_per_fold = []\n",
        "rec_per_fold = []\n",
        "cm = []\n",
        "hp = []\n",
        "\n",
        "for train_index, test_index in kf.split(numero_sus, y_numero_sus):\n",
        "    index_train_sus, index_test_sus = X.id.isin(numero_sus[train_index]), X.id.isin(numero_sus[test_index])\n",
        "    X_train, y_train = X.loc[index_train_sus,cols], y[index_train_sus]\n",
        "    X_test, y_test = X.loc[index_test_sus,cols], y[index_test_sus]\n",
        "\n",
        "    rus = RandomUnderSampler(random_state=42)\n",
        "    X_train, y_train = rus.fit_resample(X_train, y_train)\n",
        "    \n",
        "    grade={'n_neighbors': list(range(31))}\n",
        "\n",
        "    model = KNeighborsClassifier()\n",
        "    gs = GridSearchCV(estimator=model, param_grid = grade,\n",
        "                  scoring='balanced_accuracy', cv = 5)\n",
        "    gs.fit(X_train, y_train)\n",
        "    \n",
        "    pred = gs.predict(X_test)\n",
        "    \n",
        "    hp.append(gs.best_params_)\n",
        "    cm.append(confusion_matrix(y_test, pred))\n",
        "    bacc_per_fold.append(balanced_accuracy_score(y_test, pred))\n",
        "    acc_per_fold.append(accuracy_score(y_test, pred))\n",
        "    pre_per_fold.append(precision_score(y_test, pred))\n",
        "    rec_per_fold.append(recall_score(y_test, pred))\n",
        "\n",
        "print(\"bacc: {} +- {}, acc: {} +- {}, pr: {} +- {}, rec: {} +- {}\".format(np.mean(bacc_per_fold), np.std(bacc_per_fold),np.mean(acc_per_fold), np.std(acc_per_fold),\n",
        "                                                              np.mean(pre_per_fold), np.std(pre_per_fold),\n",
        "                                                              np.mean(rec_per_fold), np.std(rec_per_fold)))"
      ]
    },
    {
      "cell_type": "code",
      "execution_count": null,
      "metadata": {
        "colab": {
          "base_uri": "https://localhost:8080/"
        },
        "id": "MAOOXAAyAZPB",
        "outputId": "bf690a93-fc0c-436c-d531-3fa058df616c"
      },
      "outputs": [
        {
          "name": "stdout",
          "output_type": "stream",
          "text": [
            "list cm: [array([[ 8, 10],\n",
            "       [18, 27]]), array([[ 4, 14],\n",
            "       [16, 29]]), array([[ 0, 15],\n",
            "       [23, 25]]), array([[ 1, 14],\n",
            "       [16, 32]]), array([[15,  0],\n",
            "       [19, 26]])] \n",
            " cm: [[ 28  53]\n",
            " [ 92 139]]\n",
            "hiperparametros: [{'n_neighbors': 7}, {'n_neighbors': 1}, {'n_neighbors': 1}, {'n_neighbors': 1}, {'n_neighbors': 2}]\n",
            "bacc: [0.5222222222222221, 0.43333333333333335, 0.2604166666666667, 0.36666666666666664, 0.7888888888888889], acc: [0.5555555555555556, 0.5238095238095238, 0.3968253968253968, 0.5238095238095238, 0.6833333333333333], pr: [0.7297297297297297, 0.6744186046511628, 0.625, 0.6956521739130435, 1.0], rec: [0.6, 0.6444444444444445, 0.5208333333333334, 0.6666666666666666, 0.5777777777777777]\n"
          ]
        }
      ],
      "source": [
        "print('list cm: {} \\n cm: {}'.format(cm, sum(cm)))\n",
        "print('hiperparametros: {}'.format(hp))\n",
        "print(\"bacc: {}, acc: {}, pr: {}, rec: {}\".format(bacc_per_fold,acc_per_fold,pre_per_fold,rec_per_fold))"
      ]
    },
    {
      "cell_type": "code",
      "execution_count": null,
      "metadata": {
        "id": "LJxrMtTQAqAZ"
      },
      "outputs": [],
      "source": []
    },
    {
      "cell_type": "markdown",
      "metadata": {
        "id": "siTypH2EAvhO"
      },
      "source": [
        "**xgboost**"
      ]
    },
    {
      "cell_type": "code",
      "execution_count": null,
      "metadata": {
        "colab": {
          "base_uri": "https://localhost:8080/"
        },
        "id": "yJTVDtjMAvhP",
        "outputId": "26102d52-58ab-4505-ef2e-deca44bee757"
      },
      "outputs": [
        {
          "name": "stdout",
          "output_type": "stream",
          "text": [
            "for\n",
            "for\n",
            "for\n",
            "for\n",
            "for\n",
            "bacc: 0.49944444444444436 +- 0.10104622460128256, acc: 0.5676190476190477 +- 0.049156144383100724, pr: 0.7465079365079366 +- 0.04538017232572419, rec: 0.6366666666666666 +- 0.026140645235596865\n"
          ]
        }
      ],
      "source": [
        "kf = StratifiedKFold(n_splits=5, shuffle=False)\n",
        "\n",
        "bacc_per_fold = []\n",
        "acc_per_fold = []\n",
        "pre_per_fold = []\n",
        "rec_per_fold = []\n",
        "cm = []\n",
        "hp = []\n",
        "\n",
        "for train_index, test_index in kf.split(numero_sus, y_numero_sus):\n",
        "    index_train_sus, index_test_sus = X.id.isin(numero_sus[train_index]), X.id.isin(numero_sus[test_index])\n",
        "    X_train, y_train = X.loc[index_train_sus,cols], y[index_train_sus]\n",
        "    X_test, y_test = X.loc[index_test_sus,cols], y[index_test_sus]\n",
        "\n",
        "    rus = RandomUnderSampler(random_state=42)\n",
        "    X_train, y_train = rus.fit_resample(X_train, y_train)\n",
        "    \n",
        "    grade={\n",
        "        'colsample_bytree': [0.6, 0.8, 1.0],\n",
        "        'n_estimators': [10, 25, 50],\n",
        "       'max_depth': [5, 10, 20],\n",
        "       'max_features': ['auto', 'sqrt'],\n",
        "       'min_samples_leaf': [1, 2, 4],\n",
        "       'min_samples_split': [2, 5, 10]\n",
        "        }\n",
        "\n",
        "    model = XGBClassifier()\n",
        "    gs = GridSearchCV(estimator=model, param_grid = grade,\n",
        "                  scoring='balanced_accuracy', cv = 5)\n",
        "    gs.fit(X_train, y_train)\n",
        "    \n",
        "    pred = gs.predict(X_test)\n",
        "    \n",
        "    hp.append(gs.best_params_)\n",
        "    cm.append(confusion_matrix(y_test, pred))\n",
        "    bacc_per_fold.append(balanced_accuracy_score(y_test, pred))\n",
        "    acc_per_fold.append(accuracy_score(y_test, pred))\n",
        "    pre_per_fold.append(precision_score(y_test, pred))\n",
        "    rec_per_fold.append(recall_score(y_test, pred))\n",
        "    print('for')\n",
        "\n",
        "print(\"bacc: {} +- {}, acc: {} +- {}, pr: {} +- {}, rec: {} +- {}\".format(np.mean(bacc_per_fold), np.std(bacc_per_fold),np.mean(acc_per_fold), np.std(acc_per_fold),\n",
        "                                                              np.mean(pre_per_fold), np.std(pre_per_fold),\n",
        "                                                              np.mean(rec_per_fold), np.std(rec_per_fold)))"
      ]
    },
    {
      "cell_type": "code",
      "execution_count": null,
      "metadata": {
        "colab": {
          "base_uri": "https://localhost:8080/"
        },
        "id": "dDDK0f-CAvhQ",
        "outputId": "b7fd1b9c-7dae-4096-cb0a-f33b7f932770"
      },
      "outputs": [
        {
          "name": "stdout",
          "output_type": "stream",
          "text": [
            "list cm: [array([[10,  8],\n",
            "       [17, 28]]), array([[ 7, 11],\n",
            "       [14, 31]]), array([[ 0, 15],\n",
            "       [18, 30]]), array([[ 5, 10],\n",
            "       [18, 30]]), array([[ 8,  7],\n",
            "       [17, 28]])] \n",
            " cm: [[ 30  51]\n",
            " [ 84 147]]\n",
            "hiperparametros: [{'colsample_bytree': 0.6, 'max_depth': 5, 'max_features': 'auto', 'min_samples_leaf': 1, 'min_samples_split': 2, 'n_estimators': 10}, {'colsample_bytree': 1.0, 'max_depth': 5, 'max_features': 'auto', 'min_samples_leaf': 1, 'min_samples_split': 2, 'n_estimators': 50}, {'colsample_bytree': 0.8, 'max_depth': 10, 'max_features': 'auto', 'min_samples_leaf': 1, 'min_samples_split': 2, 'n_estimators': 50}, {'colsample_bytree': 0.6, 'max_depth': 10, 'max_features': 'auto', 'min_samples_leaf': 1, 'min_samples_split': 2, 'n_estimators': 25}, {'colsample_bytree': 0.6, 'max_depth': 10, 'max_features': 'auto', 'min_samples_leaf': 1, 'min_samples_split': 2, 'n_estimators': 10}]\n",
            "bacc: [0.5888888888888889, 0.5388888888888889, 0.3125, 0.47916666666666663, 0.5777777777777777], acc: [0.6031746031746031, 0.6031746031746031, 0.47619047619047616, 0.5555555555555556, 0.6], pr: [0.7777777777777778, 0.7380952380952381, 0.6666666666666666, 0.75, 0.8], rec: [0.6222222222222222, 0.6888888888888889, 0.625, 0.625, 0.6222222222222222]\n"
          ]
        }
      ],
      "source": [
        "print('list cm: {} \\n cm: {}'.format(cm, sum(cm)))\n",
        "print('hiperparametros: {}'.format(hp))\n",
        "print(\"bacc: {}, acc: {}, pr: {}, rec: {}\".format(bacc_per_fold,acc_per_fold,pre_per_fold,rec_per_fold))"
      ]
    },
    {
      "cell_type": "markdown",
      "metadata": {
        "id": "PGVi1B17CBlv"
      },
      "source": [
        "**mlp**"
      ]
    },
    {
      "cell_type": "code",
      "execution_count": null,
      "metadata": {
        "colab": {
          "base_uri": "https://localhost:8080/"
        },
        "id": "NfL8jGlZCBlx",
        "outputId": "b55a28ff-1d24-4560-c2b4-86227d992c0b"
      },
      "outputs": [
        {
          "name": "stdout",
          "output_type": "stream",
          "text": [
            "for\n",
            "for\n",
            "for\n",
            "for\n",
            "for\n",
            "bacc: 0.5383333333333333 +- 0.10476531680350265, acc: 0.5877777777777778 +- 0.10149251530352091, pr: 0.7674574296562127 +- 0.07586746435639347, rec: 0.6277777777777777 +- 0.16328986572017742\n"
          ]
        }
      ],
      "source": [
        "kf = StratifiedKFold(n_splits=5, shuffle=False)\n",
        "\n",
        "bacc_per_fold = []\n",
        "acc_per_fold = []\n",
        "pre_per_fold = []\n",
        "rec_per_fold = []\n",
        "cm = []\n",
        "hp = []\n",
        "\n",
        "for train_index, test_index in kf.split(numero_sus, y_numero_sus):\n",
        "    index_train_sus, index_test_sus = X.id.isin(numero_sus[train_index]), X.id.isin(numero_sus[test_index])\n",
        "    X_train, y_train = X.loc[index_train_sus,cols], y[index_train_sus]\n",
        "    X_test, y_test = X.loc[index_test_sus,cols], y[index_test_sus]\n",
        "\n",
        "    rus = RandomUnderSampler(random_state=42)\n",
        "    X_train, y_train = rus.fit_resample(X_train, y_train)\n",
        "    \n",
        "    grade={\n",
        "    'hidden_layer_sizes': [(50,50,50), (50,100,50), (50,100)],\n",
        "    'activation': ['tanh', 'relu'],\n",
        "    'solver': ['sgd', 'adam'],\n",
        "    'alpha': [0.0001, 0.05],\n",
        "    'learning_rate': ['constant','adaptive'],\n",
        "    }\n",
        "\n",
        "    model = MLPClassifier()\n",
        "    gs = GridSearchCV(estimator=model, param_grid = grade,\n",
        "                  scoring='balanced_accuracy', cv = 5)\n",
        "    gs.fit(X_train, y_train)\n",
        "    \n",
        "    pred = gs.predict(X_test)\n",
        "    \n",
        "    hp.append(gs.best_params_)\n",
        "    cm.append(confusion_matrix(y_test, pred))\n",
        "    bacc_per_fold.append(balanced_accuracy_score(y_test, pred))\n",
        "    acc_per_fold.append(accuracy_score(y_test, pred))\n",
        "    pre_per_fold.append(precision_score(y_test, pred))\n",
        "    rec_per_fold.append(recall_score(y_test, pred))\n",
        "    print('for')\n",
        "\n",
        "print(\"bacc: {} +- {}, acc: {} +- {}, pr: {} +- {}, rec: {} +- {}\".format(np.mean(bacc_per_fold), np.std(bacc_per_fold),np.mean(acc_per_fold), np.std(acc_per_fold),\n",
        "                                                              np.mean(pre_per_fold), np.std(pre_per_fold),\n",
        "                                                              np.mean(rec_per_fold), np.std(rec_per_fold)))"
      ]
    },
    {
      "cell_type": "code",
      "execution_count": null,
      "metadata": {
        "colab": {
          "base_uri": "https://localhost:8080/"
        },
        "id": "D_YDdZIaCBly",
        "outputId": "ee6ffb18-6180-45e8-aced-8f5344c7d611"
      },
      "outputs": [
        {
          "name": "stdout",
          "output_type": "stream",
          "text": [
            "list cm: [array([[ 9,  9],\n",
            "       [25, 20]]), array([[11,  7],\n",
            "       [26, 19]]), array([[ 3, 12],\n",
            "       [10, 38]]), array([[ 2, 13],\n",
            "       [10, 38]]), array([[12,  3],\n",
            "       [14, 31]])] \n",
            " cm: [[ 37  44]\n",
            " [ 85 146]]\n",
            "hiperparametros: [{'activation': 'relu', 'alpha': 0.05, 'hidden_layer_sizes': (50, 100, 50), 'learning_rate': 'adaptive', 'solver': 'adam'}, {'activation': 'relu', 'alpha': 0.0001, 'hidden_layer_sizes': (50, 100, 50), 'learning_rate': 'adaptive', 'solver': 'adam'}, {'activation': 'tanh', 'alpha': 0.05, 'hidden_layer_sizes': (50, 50, 50), 'learning_rate': 'constant', 'solver': 'adam'}, {'activation': 'tanh', 'alpha': 0.05, 'hidden_layer_sizes': (50, 100), 'learning_rate': 'constant', 'solver': 'adam'}, {'activation': 'relu', 'alpha': 0.05, 'hidden_layer_sizes': (50, 100, 50), 'learning_rate': 'constant', 'solver': 'adam'}]\n",
            "bacc: [0.4722222222222222, 0.5166666666666667, 0.49583333333333335, 0.46249999999999997, 0.7444444444444445], acc: [0.4603174603174603, 0.47619047619047616, 0.6507936507936508, 0.6349206349206349, 0.7166666666666667], pr: [0.6896551724137931, 0.7307692307692307, 0.76, 0.7450980392156863, 0.9117647058823529], rec: [0.4444444444444444, 0.4222222222222222, 0.7916666666666666, 0.7916666666666666, 0.6888888888888889]\n"
          ]
        }
      ],
      "source": [
        "print('list cm: {} \\n cm: {}'.format(cm, sum(cm)))\n",
        "print('hiperparametros: {}'.format(hp))\n",
        "print(\"bacc: {}, acc: {}, pr: {}, rec: {}\".format(bacc_per_fold,acc_per_fold,pre_per_fold,rec_per_fold))"
      ]
    },
    {
      "cell_type": "code",
      "execution_count": null,
      "metadata": {
        "id": "oRkYkc2wB3ct"
      },
      "outputs": [],
      "source": []
    },
    {
      "cell_type": "markdown",
      "metadata": {
        "id": "yh7wrLKjCj05"
      },
      "source": [
        "**plsda**"
      ]
    },
    {
      "cell_type": "code",
      "execution_count": null,
      "metadata": {
        "colab": {
          "base_uri": "https://localhost:8080/"
        },
        "id": "fh23xGL2Cj07",
        "outputId": "503319f7-a7f8-4567-f8ba-885bed17e64b"
      },
      "outputs": [
        {
          "name": "stderr",
          "output_type": "stream",
          "text": [
            "/usr/local/lib/python3.7/dist-packages/sklearn/utils/validation.py:1692: FutureWarning: Feature names only support names that are all strings. Got feature names with dtypes: ['float']. An error will be raised in 1.2.\n",
            "  FutureWarning,\n",
            "/usr/local/lib/python3.7/dist-packages/sklearn/utils/validation.py:1692: FutureWarning: Feature names only support names that are all strings. Got feature names with dtypes: ['float']. An error will be raised in 1.2.\n",
            "  FutureWarning,\n"
          ]
        },
        {
          "name": "stdout",
          "output_type": "stream",
          "text": [
            "[ 9.41346956 10.7140352   4.28968314  9.09875277  0.28827234  1.03767659\n",
            "  0.15340456  0.06381251  0.04698984  0.03092704  0.02793013  0.02129971]\n",
            "for\n",
            "[1.01604452e+01 4.57795474e+00 2.26419933e+00 3.25681606e+00\n",
            " 2.16334840e-01 1.86986982e-01 3.69571592e-01 2.05487909e-01\n",
            " 3.20167196e-02 3.00168371e-02 2.06971400e-02 5.62828892e-03]\n"
          ]
        },
        {
          "name": "stderr",
          "output_type": "stream",
          "text": [
            "/usr/local/lib/python3.7/dist-packages/sklearn/utils/validation.py:1692: FutureWarning: Feature names only support names that are all strings. Got feature names with dtypes: ['float']. An error will be raised in 1.2.\n",
            "  FutureWarning,\n",
            "/usr/local/lib/python3.7/dist-packages/sklearn/utils/validation.py:1692: FutureWarning: Feature names only support names that are all strings. Got feature names with dtypes: ['float']. An error will be raised in 1.2.\n",
            "  FutureWarning,\n",
            "/usr/local/lib/python3.7/dist-packages/sklearn/utils/validation.py:1692: FutureWarning: Feature names only support names that are all strings. Got feature names with dtypes: ['float']. An error will be raised in 1.2.\n",
            "  FutureWarning,\n"
          ]
        },
        {
          "name": "stdout",
          "output_type": "stream",
          "text": [
            "for\n",
            "[9.85472478e+00 2.90059157e+00 2.55037671e+00 3.47088024e-01\n",
            " 1.46274314e-01 5.10976331e-01 3.81896131e-02 7.11699720e-02\n",
            " 3.63504591e-03 1.16460840e-02 1.88203649e-02 2.47718023e-03]\n",
            "for\n"
          ]
        },
        {
          "name": "stderr",
          "output_type": "stream",
          "text": [
            "/usr/local/lib/python3.7/dist-packages/sklearn/utils/validation.py:1692: FutureWarning: Feature names only support names that are all strings. Got feature names with dtypes: ['float']. An error will be raised in 1.2.\n",
            "  FutureWarning,\n",
            "/usr/local/lib/python3.7/dist-packages/sklearn/utils/validation.py:1692: FutureWarning: Feature names only support names that are all strings. Got feature names with dtypes: ['float']. An error will be raised in 1.2.\n",
            "  FutureWarning,\n",
            "/usr/local/lib/python3.7/dist-packages/sklearn/utils/validation.py:1692: FutureWarning: Feature names only support names that are all strings. Got feature names with dtypes: ['float']. An error will be raised in 1.2.\n",
            "  FutureWarning,\n",
            "/usr/local/lib/python3.7/dist-packages/sklearn/utils/validation.py:1692: FutureWarning: Feature names only support names that are all strings. Got feature names with dtypes: ['float']. An error will be raised in 1.2.\n",
            "  FutureWarning,\n"
          ]
        },
        {
          "name": "stdout",
          "output_type": "stream",
          "text": [
            "[7.27004843e+00 1.21818738e+00 3.12995984e+00 7.76900158e-01\n",
            " 1.94485531e-01 6.65927259e-02 2.25620597e-01 2.56688923e-02\n",
            " 1.38260202e-02 8.13706530e-03 5.83394172e-03 1.14494288e-02]\n",
            "for\n",
            "[9.00091784e+00 5.15191169e+00 3.51875030e+00 9.31180592e+00\n",
            " 6.92991847e-02 1.15681967e-01 1.32037007e+00 1.07016445e-01\n",
            " 2.55394971e-02 4.33313489e-02 8.76526072e-03 2.99677903e-02]\n",
            "for\n",
            "bacc: 0.515 +- 0.07291150775400933, acc: 0.5653968253968253 +- 0.08661723108938742, pr: 0.2508866332395744 +- 0.13610248982011225, rec: 0.41555555555555557 +- 0.22195539536326706\n"
          ]
        },
        {
          "name": "stderr",
          "output_type": "stream",
          "text": [
            "/usr/local/lib/python3.7/dist-packages/sklearn/utils/validation.py:1692: FutureWarning: Feature names only support names that are all strings. Got feature names with dtypes: ['float']. An error will be raised in 1.2.\n",
            "  FutureWarning,\n"
          ]
        }
      ],
      "source": [
        "kf = StratifiedKFold(n_splits=5, shuffle=False)\n",
        "\n",
        "bacc_per_fold = []\n",
        "acc_per_fold = []\n",
        "pre_per_fold = []\n",
        "rec_per_fold = []\n",
        "cm = []\n",
        "hp = []\n",
        "\n",
        "for train_index, test_index in kf.split(numero_sus, y_numero_sus):\n",
        "    index_train_sus, index_test_sus = X.id.isin(numero_sus[train_index]), X.id.isin(numero_sus[test_index])\n",
        "    \n",
        "    X_train, y_train = X.loc[index_train_sus,cols], y[index_train_sus]\n",
        "    X_test, y_test = X.loc[index_test_sus,cols], y[index_test_sus]\n",
        "\n",
        "    rus = RandomUnderSampler(random_state=42)\n",
        "    X_train, y_train = rus.fit_resample(X_train, y_train)\n",
        "    \n",
        "    y_train = get_dummy_matrix(y_train)\n",
        "    y_test = get_dummy_matrix(y_test.values)\n",
        "    \n",
        "    pls_da = PLSRegression(n_components=12)\n",
        "    pls_da.fit(X_train.values, np.transpose(y_train))\n",
        "    preds = pls_da.predict(X_test)\n",
        "    normalized_pred = []\n",
        "    normalized_true = []\n",
        "    \n",
        "    total_variance_in_x = np.var(X_train, axis = 0)\n",
        "    variance_in_x = np.var(pls_da.x_scores_, axis = 0) \n",
        "\n",
        "    # normalize variance by total variance:\n",
        "    print(variance_in_x / np.sum(total_variance_in_x))\n",
        "\n",
        "        \n",
        "    for i in range(0, preds.shape[0]):\n",
        "        index_pred = np.argmax(preds[i])\n",
        "        normalized_pred.append(index_pred+1)\n",
        "        index_true = np.argmax(np.transpose(y_test)[i])\n",
        "        normalized_true.append(index_true+1)\n",
        "    \n",
        "    cm.append(confusion_matrix(normalized_true, normalized_pred))\n",
        "    bacc_per_fold.append(balanced_accuracy_score(normalized_true, normalized_pred))\n",
        "    acc_per_fold.append(accuracy_score(normalized_true, normalized_pred))\n",
        "    pre_per_fold.append(precision_score(normalized_true, normalized_pred))\n",
        "    rec_per_fold.append(recall_score(normalized_true, normalized_pred))\n",
        "    print('for')\n",
        "\n",
        "print(\"bacc: {} +- {}, acc: {} +- {}, pr: {} +- {}, rec: {} +- {}\".format(np.mean(bacc_per_fold), np.std(bacc_per_fold),np.mean(acc_per_fold), np.std(acc_per_fold),\n",
        "                                                              np.mean(pre_per_fold), np.std(pre_per_fold),\n",
        "                                                              np.mean(rec_per_fold), np.std(rec_per_fold)))"
      ]
    },
    {
      "cell_type": "code",
      "execution_count": null,
      "metadata": {
        "colab": {
          "base_uri": "https://localhost:8080/"
        },
        "id": "BXftVI4sCj08",
        "outputId": "1cf03a0e-36ba-4731-b6ab-d697fae5a203"
      },
      "outputs": [
        {
          "name": "stdout",
          "output_type": "stream",
          "text": [
            "list cm: [array([[11,  7],\n",
            "       [24, 21]]), array([[18,  0],\n",
            "       [28, 17]]), array([[ 6,  9],\n",
            "       [13, 35]]), array([[ 3, 12],\n",
            "       [12, 36]]), array([[12,  3],\n",
            "       [ 9, 36]])] \n",
            " cm: [[ 50  31]\n",
            " [ 86 145]]\n",
            "bacc: [0.538888888888889, 0.6888888888888889, 0.5645833333333333, 0.475, 0.8], acc: [0.5079365079365079, 0.5555555555555556, 0.6507936507936508, 0.6190476190476191, 0.8], pr: [0.3142857142857143, 0.391304347826087, 0.3157894736842105, 0.2, 0.5714285714285714], rec: [0.6111111111111112, 1.0, 0.4, 0.2, 0.8]\n"
          ]
        }
      ],
      "source": [
        "print('list cm: {} \\n cm: {}'.format(cm, sum(cm)))\n",
        "#print('hiperparametros: {}'.format(hp))\n",
        "print(\"bacc: {}, acc: {}, pr: {}, rec: {}\".format(bacc_per_fold,acc_per_fold,pre_per_fold,rec_per_fold))"
      ]
    },
    {
      "cell_type": "code",
      "execution_count": null,
      "metadata": {
        "id": "isb8kAB3JToR"
      },
      "outputs": [],
      "source": []
    },
    {
      "cell_type": "markdown",
      "metadata": {
        "id": "4jB89vplJg9H"
      },
      "source": [
        "**nao preprocessado**"
      ]
    },
    {
      "cell_type": "markdown",
      "metadata": {
        "id": "SSGeM9TSJteL"
      },
      "source": [
        "**svm**"
      ]
    },
    {
      "cell_type": "code",
      "execution_count": null,
      "metadata": {
        "colab": {
          "base_uri": "https://localhost:8080/"
        },
        "id": "fw_t9sIoJteM",
        "outputId": "fa7b020c-6458-44d7-b8d6-53ca13a6cee4"
      },
      "outputs": [
        {
          "name": "stdout",
          "output_type": "stream",
          "text": [
            "bacc: 0.4531944444444445 +- 0.05173606450408044, acc: 0.4828571428571428 +- 0.13538258917695056, pr: 0.6881492948056416 +- 0.06557681713774804, rec: 0.5041666666666667 +- 0.2370113556689835\n"
          ]
        }
      ],
      "source": [
        "kf = StratifiedKFold(n_splits=5, shuffle=False)\n",
        "\n",
        "bacc_per_fold = []\n",
        "acc_per_fold = []\n",
        "pre_per_fold = []\n",
        "rec_per_fold = []\n",
        "cm = []\n",
        "hp = []\n",
        "\n",
        "for train_index, test_index in kf.split(numero_sus, y_numero_sus):\n",
        "    index_train_sus, index_test_sus = X.id.isin(numero_sus[train_index]), X.id.isin(numero_sus[test_index])\n",
        "    X_train, y_train = X_raw.loc[index_train_sus,:], y[index_train_sus]\n",
        "    X_test, y_test = X_raw.loc[index_test_sus,:], y[index_test_sus]\n",
        "\n",
        "    rus = RandomUnderSampler(random_state=42)\n",
        "    X_train, y_train = rus.fit_resample(X_train, y_train)\n",
        "    \n",
        "    grade={'C':[1,10,100,1000],\n",
        "       'gamma':[1,0.1,0.001,0.0001], \n",
        "       'kernel':['linear','rbf']}\n",
        "\n",
        "    model = SVC()\n",
        "    gs = GridSearchCV(estimator=model, param_grid = grade,\n",
        "                  scoring='balanced_accuracy', cv = 5)\n",
        "    gs.fit(X_train, y_train)\n",
        "    \n",
        "    pred = gs.predict(X_test)\n",
        "    \n",
        "    hp.append(gs.best_params_)\n",
        "    cm.append(confusion_matrix(y_test, pred))\n",
        "    bacc_per_fold.append(balanced_accuracy_score(y_test, pred))\n",
        "    acc_per_fold.append(accuracy_score(y_test, pred))\n",
        "    pre_per_fold.append(precision_score(y_test, pred))\n",
        "    rec_per_fold.append(recall_score(y_test, pred))\n",
        "\n",
        "print(\"bacc: {} +- {}, acc: {} +- {}, pr: {} +- {}, rec: {} +- {}\".format(np.mean(bacc_per_fold), np.std(bacc_per_fold),np.mean(acc_per_fold), np.std(acc_per_fold),\n",
        "                                                              np.mean(pre_per_fold), np.std(pre_per_fold),\n",
        "                                                              np.mean(rec_per_fold), np.std(rec_per_fold)))"
      ]
    },
    {
      "cell_type": "code",
      "execution_count": null,
      "metadata": {
        "colab": {
          "base_uri": "https://localhost:8080/"
        },
        "id": "EWx23OgHJteN",
        "outputId": "acb7c051-c5ee-4308-887b-328a6a6705ef"
      },
      "outputs": [
        {
          "name": "stdout",
          "output_type": "stream",
          "text": [
            "list cm: [array([[ 5, 13],\n",
            "       [22, 23]]), array([[12,  6],\n",
            "       [36,  9]]), array([[ 4, 11],\n",
            "       [ 8, 40]]), array([[ 3, 12],\n",
            "       [15, 33]]), array([[ 9,  6],\n",
            "       [32, 13]])] \n",
            " cm: [[ 33  48]\n",
            " [113 118]]\n",
            "hiperparametros: [{'C': 1000, 'gamma': 1, 'kernel': 'linear'}, {'C': 10, 'gamma': 1, 'kernel': 'linear'}, {'C': 100, 'gamma': 1, 'kernel': 'rbf'}, {'C': 100, 'gamma': 1, 'kernel': 'linear'}, {'C': 1000, 'gamma': 1, 'kernel': 'rbf'}]\n",
            "bacc: [0.39444444444444443, 0.43333333333333335, 0.55, 0.44375, 0.4444444444444444], acc: [0.4444444444444444, 0.3333333333333333, 0.6984126984126984, 0.5714285714285714, 0.36666666666666664], pr: [0.6388888888888888, 0.6, 0.7843137254901961, 0.7333333333333333, 0.6842105263157895], rec: [0.5111111111111111, 0.2, 0.8333333333333334, 0.6875, 0.28888888888888886]\n"
          ]
        }
      ],
      "source": [
        "print('list cm: {} \\n cm: {}'.format(cm, sum(cm)))\n",
        "print('hiperparametros: {}'.format(hp))\n",
        "print(\"bacc: {}, acc: {}, pr: {}, rec: {}\".format(bacc_per_fold,acc_per_fold,pre_per_fold,rec_per_fold))"
      ]
    },
    {
      "cell_type": "markdown",
      "metadata": {
        "id": "Yadh61ekJteO"
      },
      "source": [
        "**knn**"
      ]
    },
    {
      "cell_type": "code",
      "execution_count": null,
      "metadata": {
        "colab": {
          "base_uri": "https://localhost:8080/"
        },
        "id": "inNOeMkHJteO",
        "outputId": "e949aea3-4b52-41ec-8aea-b7f80beaedf7"
      },
      "outputs": [
        {
          "name": "stdout",
          "output_type": "stream",
          "text": [
            "bacc: 0.46277777777777784 +- 0.09242280729691116, acc: 0.48920634920634914 +- 0.10268455047387445, pr: 0.705448518872432 +- 0.07760179944033774, rec: 0.5166666666666667 +- 0.12100403013388428\n"
          ]
        }
      ],
      "source": [
        "kf = StratifiedKFold(n_splits=5, shuffle=False)\n",
        "\n",
        "bacc_per_fold = []\n",
        "acc_per_fold = []\n",
        "pre_per_fold = []\n",
        "rec_per_fold = []\n",
        "cm = []\n",
        "hp = []\n",
        "\n",
        "for train_index, test_index in kf.split(numero_sus, y_numero_sus):\n",
        "    index_train_sus, index_test_sus = X.id.isin(numero_sus[train_index]), X.id.isin(numero_sus[test_index])\n",
        "    X_train, y_train = X_raw.loc[index_train_sus,:], y[index_train_sus]\n",
        "    X_test, y_test = X_raw.loc[index_test_sus,:], y[index_test_sus]\n",
        "    \n",
        "    rus = RandomUnderSampler(random_state=42)\n",
        "    X_train, y_train = rus.fit_resample(X_train, y_train)\n",
        "    \n",
        "    grade={'n_neighbors': list(range(31))}\n",
        "\n",
        "    model = KNeighborsClassifier()\n",
        "    gs = GridSearchCV(estimator=model, param_grid = grade,\n",
        "                  scoring='balanced_accuracy', cv = 5)\n",
        "    gs.fit(X_train, y_train)\n",
        "    \n",
        "    pred = gs.predict(X_test)\n",
        "    \n",
        "    hp.append(gs.best_params_)\n",
        "    cm.append(confusion_matrix(y_test, pred))\n",
        "    bacc_per_fold.append(balanced_accuracy_score(y_test, pred))\n",
        "    acc_per_fold.append(accuracy_score(y_test, pred))\n",
        "    pre_per_fold.append(precision_score(y_test, pred))\n",
        "    rec_per_fold.append(recall_score(y_test, pred))\n",
        "\n",
        "print(\"bacc: {} +- {}, acc: {} +- {}, pr: {} +- {}, rec: {} +- {}\".format(np.mean(bacc_per_fold), np.std(bacc_per_fold),np.mean(acc_per_fold), np.std(acc_per_fold),\n",
        "                                                              np.mean(pre_per_fold), np.std(pre_per_fold),\n",
        "                                                              np.mean(rec_per_fold), np.std(rec_per_fold)))"
      ]
    },
    {
      "cell_type": "code",
      "execution_count": null,
      "metadata": {
        "colab": {
          "base_uri": "https://localhost:8080/"
        },
        "id": "yxpoMlZ3JteP",
        "outputId": "83e4246c-e385-4e75-8891-457ae585e965"
      },
      "outputs": [
        {
          "name": "stdout",
          "output_type": "stream",
          "text": [
            "list cm: [array([[ 9,  9],\n",
            "       [19, 26]]), array([[ 5, 13],\n",
            "       [26, 19]]), array([[ 8,  7],\n",
            "       [16, 32]]), array([[ 4, 11],\n",
            "       [20, 28]]), array([[ 7,  8],\n",
            "       [30, 15]])] \n",
            " cm: [[ 33  48]\n",
            " [111 120]]\n",
            "hiperparametros: [{'n_neighbors': 2}, {'n_neighbors': 1}, {'n_neighbors': 1}, {'n_neighbors': 1}, {'n_neighbors': 5}]\n",
            "bacc: [0.5388888888888889, 0.35, 0.6, 0.42500000000000004, 0.4], acc: [0.5555555555555556, 0.38095238095238093, 0.6349206349206349, 0.5079365079365079, 0.36666666666666664], pr: [0.7428571428571429, 0.59375, 0.8205128205128205, 0.717948717948718, 0.6521739130434783], rec: [0.5777777777777777, 0.4222222222222222, 0.6666666666666666, 0.5833333333333334, 0.3333333333333333]\n"
          ]
        }
      ],
      "source": [
        "print('list cm: {} \\n cm: {}'.format(cm, sum(cm)))\n",
        "print('hiperparametros: {}'.format(hp))\n",
        "print(\"bacc: {}, acc: {}, pr: {}, rec: {}\".format(bacc_per_fold,acc_per_fold,pre_per_fold,rec_per_fold))"
      ]
    },
    {
      "cell_type": "markdown",
      "metadata": {
        "id": "2Xj_SzgQJteP"
      },
      "source": [
        "**xgboost**"
      ]
    },
    {
      "cell_type": "code",
      "execution_count": null,
      "metadata": {
        "colab": {
          "base_uri": "https://localhost:8080/"
        },
        "id": "dwdL0NzgJteP",
        "outputId": "65b6ed2e-9aae-4b26-e0be-2cdb0b607bb1"
      },
      "outputs": [
        {
          "name": "stdout",
          "output_type": "stream",
          "text": [
            "for\n",
            "for\n",
            "for\n",
            "for\n",
            "for\n",
            "bacc: 0.43888888888888883 +- 0.09376491650879468, acc: 0.43650793650793657 +- 0.07999748043399461, pr: 0.689024024024024 +- 0.07226083264286781, rec: 0.4288888888888889 +- 0.08867770051090204\n"
          ]
        }
      ],
      "source": [
        "kf = StratifiedKFold(n_splits=5, shuffle=False)\n",
        "\n",
        "bacc_per_fold = []\n",
        "acc_per_fold = []\n",
        "pre_per_fold = []\n",
        "rec_per_fold = []\n",
        "cm = []\n",
        "hp = []\n",
        "\n",
        "for train_index, test_index in kf.split(numero_sus, y_numero_sus):\n",
        "    index_train_sus, index_test_sus = X.id.isin(numero_sus[train_index]), X.id.isin(numero_sus[test_index])\n",
        "    X_train, y_train = X_raw.loc[index_train_sus,:], y[index_train_sus]\n",
        "    X_test, y_test = X_raw.loc[index_test_sus,:], y[index_test_sus]\n",
        "\n",
        "    rus = RandomUnderSampler(random_state=42)\n",
        "    X_train, y_train = rus.fit_resample(X_train, y_train)\n",
        "    \n",
        "    grade={\n",
        "        'colsample_bytree': [0.6, 0.8, 1.0],\n",
        "        'n_estimators': [10, 25, 50],\n",
        "       'max_depth': [5, 10, 20],\n",
        "       'max_features': ['auto', 'sqrt'],\n",
        "       'min_samples_leaf': [1, 2, 4],\n",
        "       'min_samples_split': [2, 5, 10]\n",
        "        }\n",
        "\n",
        "    model = XGBClassifier()\n",
        "    gs = GridSearchCV(estimator=model, param_grid = grade,\n",
        "                  scoring='balanced_accuracy', cv = 5)\n",
        "    gs.fit(X_train, y_train)\n",
        "    \n",
        "    pred = gs.predict(X_test)\n",
        "    \n",
        "    hp.append(gs.best_params_)\n",
        "    cm.append(confusion_matrix(y_test, pred))\n",
        "    bacc_per_fold.append(balanced_accuracy_score(y_test, pred))\n",
        "    acc_per_fold.append(accuracy_score(y_test, pred))\n",
        "    pre_per_fold.append(precision_score(y_test, pred))\n",
        "    rec_per_fold.append(recall_score(y_test, pred))\n",
        "    print('for')\n",
        "\n",
        "print(\"bacc: {} +- {}, acc: {} +- {}, pr: {} +- {}, rec: {} +- {}\".format(np.mean(bacc_per_fold), np.std(bacc_per_fold),np.mean(acc_per_fold), np.std(acc_per_fold),\n",
        "                                                              np.mean(pre_per_fold), np.std(pre_per_fold),\n",
        "                                                              np.mean(rec_per_fold), np.std(rec_per_fold)))"
      ]
    },
    {
      "cell_type": "code",
      "execution_count": null,
      "metadata": {
        "colab": {
          "base_uri": "https://localhost:8080/"
        },
        "id": "5CCh-FQ7JteQ",
        "outputId": "193d6f94-4ce5-4ff0-b5f3-bab5fd0b9266"
      },
      "outputs": [
        {
          "name": "stdout",
          "output_type": "stream",
          "text": [
            "list cm: [array([[11,  7],\n",
            "       [22, 23]]), array([[ 9,  9],\n",
            "       [30, 15]]), array([[ 3, 12],\n",
            "       [23, 25]]), array([[ 5, 10],\n",
            "       [33, 15]]), array([[ 9,  6],\n",
            "       [24, 21]])] \n",
            " cm: [[ 37  44]\n",
            " [132  99]]\n",
            "hiperparametros: [{'colsample_bytree': 1.0, 'max_depth': 5, 'max_features': 'auto', 'min_samples_leaf': 1, 'min_samples_split': 2, 'n_estimators': 25}, {'colsample_bytree': 0.6, 'max_depth': 10, 'max_features': 'auto', 'min_samples_leaf': 1, 'min_samples_split': 2, 'n_estimators': 25}, {'colsample_bytree': 0.6, 'max_depth': 10, 'max_features': 'auto', 'min_samples_leaf': 1, 'min_samples_split': 2, 'n_estimators': 25}, {'colsample_bytree': 0.8, 'max_depth': 5, 'max_features': 'auto', 'min_samples_leaf': 1, 'min_samples_split': 2, 'n_estimators': 10}, {'colsample_bytree': 0.8, 'max_depth': 5, 'max_features': 'auto', 'min_samples_leaf': 1, 'min_samples_split': 2, 'n_estimators': 10}]\n",
            "bacc: [0.5611111111111111, 0.41666666666666663, 0.3604166666666667, 0.32291666666666663, 0.5333333333333333], acc: [0.5396825396825397, 0.38095238095238093, 0.4444444444444444, 0.31746031746031744, 0.5], pr: [0.7666666666666667, 0.625, 0.6756756756756757, 0.6, 0.7777777777777778], rec: [0.5111111111111111, 0.3333333333333333, 0.5208333333333334, 0.3125, 0.4666666666666667]\n"
          ]
        }
      ],
      "source": [
        "print('list cm: {} \\n cm: {}'.format(cm, sum(cm)))\n",
        "print('hiperparametros: {}'.format(hp))\n",
        "print(\"bacc: {}, acc: {}, pr: {}, rec: {}\".format(bacc_per_fold,acc_per_fold,pre_per_fold,rec_per_fold))"
      ]
    },
    {
      "cell_type": "markdown",
      "metadata": {
        "id": "Lq9hjAlhJteQ"
      },
      "source": [
        "**mlp**"
      ]
    },
    {
      "cell_type": "code",
      "execution_count": null,
      "metadata": {
        "colab": {
          "base_uri": "https://localhost:8080/"
        },
        "id": "p_RVzeo4JteR",
        "outputId": "6fcb3695-e9fe-493f-b8ed-7d560a7d0646"
      },
      "outputs": [
        {
          "name": "stdout",
          "output_type": "stream",
          "text": [
            "for\n",
            "for\n",
            "for\n",
            "for\n",
            "for\n",
            "bacc: 0.4656944444444444 +- 0.040520342399196815, acc: 0.3838095238095238 +- 0.08631418524175559, pr: 0.5759310344827586 +- 0.2929987967330911, rec: 0.2847222222222222 +- 0.2092867074754771\n"
          ]
        }
      ],
      "source": [
        "kf = StratifiedKFold(n_splits=5, shuffle=False)\n",
        "\n",
        "bacc_per_fold = []\n",
        "acc_per_fold = []\n",
        "pre_per_fold = []\n",
        "rec_per_fold = []\n",
        "cm = []\n",
        "hp = []\n",
        "\n",
        "for train_index, test_index in kf.split(numero_sus, y_numero_sus):\n",
        "    index_train_sus, index_test_sus = X.id.isin(numero_sus[train_index]), X.id.isin(numero_sus[test_index])\n",
        "    X_train, y_train = X_raw.loc[index_train_sus,:], y[index_train_sus]\n",
        "    X_test, y_test = X_raw.loc[index_test_sus,:], y[index_test_sus]\n",
        "\n",
        "    rus = RandomUnderSampler(random_state=42)\n",
        "    X_train, y_train = rus.fit_resample(X_train, y_train)\n",
        "    \n",
        "    grade={\n",
        "    'hidden_layer_sizes': [(50,50,50), (50,100,50), (50,100)],\n",
        "    'activation': ['tanh', 'relu'],\n",
        "    'solver': ['sgd', 'adam'],\n",
        "    'alpha': [0.0001, 0.05],\n",
        "    'learning_rate': ['constant','adaptive'],\n",
        "    }\n",
        "\n",
        "    model = MLPClassifier()\n",
        "    gs = GridSearchCV(estimator=model, param_grid = grade,\n",
        "                  scoring='balanced_accuracy', cv = 5)\n",
        "    gs.fit(X_train, y_train)\n",
        "    \n",
        "    pred = gs.predict(X_test)\n",
        "    \n",
        "    hp.append(gs.best_params_)\n",
        "    cm.append(confusion_matrix(y_test, pred))\n",
        "    bacc_per_fold.append(balanced_accuracy_score(y_test, pred))\n",
        "    acc_per_fold.append(accuracy_score(y_test, pred))\n",
        "    pre_per_fold.append(precision_score(y_test, pred))\n",
        "    rec_per_fold.append(recall_score(y_test, pred))\n",
        "    print('for')\n",
        "\n",
        "print(\"bacc: {} +- {}, acc: {} +- {}, pr: {} +- {}, rec: {} +- {}\".format(np.mean(bacc_per_fold), np.std(bacc_per_fold),np.mean(acc_per_fold), np.std(acc_per_fold),\n",
        "                                                              np.mean(pre_per_fold), np.std(pre_per_fold),\n",
        "                                                              np.mean(rec_per_fold), np.std(rec_per_fold)))"
      ]
    },
    {
      "cell_type": "code",
      "execution_count": null,
      "metadata": {
        "colab": {
          "base_uri": "https://localhost:8080/"
        },
        "id": "-7fseTT3JteR",
        "outputId": "7b7c5c02-aa07-4e37-db66-e3d06d14e3f6"
      },
      "outputs": [
        {
          "name": "stdout",
          "output_type": "stream",
          "text": [
            "list cm: [array([[ 9,  9],\n",
            "       [29, 16]]), array([[18,  0],\n",
            "       [45,  0]]), array([[ 6,  9],\n",
            "       [21, 27]]), array([[ 6,  9],\n",
            "       [28, 20]]), array([[14,  1],\n",
            "       [41,  4]])] \n",
            " cm: [[ 53  28]\n",
            " [164  67]]\n",
            "hiperparametros: [{'activation': 'tanh', 'alpha': 0.0001, 'hidden_layer_sizes': (50, 50, 50), 'learning_rate': 'constant', 'solver': 'adam'}, {'activation': 'relu', 'alpha': 0.0001, 'hidden_layer_sizes': (50, 50, 50), 'learning_rate': 'adaptive', 'solver': 'adam'}, {'activation': 'relu', 'alpha': 0.0001, 'hidden_layer_sizes': (50, 100, 50), 'learning_rate': 'adaptive', 'solver': 'adam'}, {'activation': 'relu', 'alpha': 0.05, 'hidden_layer_sizes': (50, 100, 50), 'learning_rate': 'constant', 'solver': 'adam'}, {'activation': 'tanh', 'alpha': 0.0001, 'hidden_layer_sizes': (50, 50, 50), 'learning_rate': 'constant', 'solver': 'sgd'}]\n",
            "bacc: [0.4277777777777778, 0.5, 0.48125, 0.4083333333333333, 0.5111111111111111], acc: [0.3968253968253968, 0.2857142857142857, 0.5238095238095238, 0.4126984126984127, 0.3], pr: [0.64, 0.0, 0.75, 0.6896551724137931, 0.8], rec: [0.35555555555555557, 0.0, 0.5625, 0.4166666666666667, 0.08888888888888889]\n"
          ]
        }
      ],
      "source": [
        "print('list cm: {} \\n cm: {}'.format(cm, sum(cm)))\n",
        "print('hiperparametros: {}'.format(hp))\n",
        "print(\"bacc: {}, acc: {}, pr: {}, rec: {}\".format(bacc_per_fold,acc_per_fold,pre_per_fold,rec_per_fold))"
      ]
    },
    {
      "cell_type": "markdown",
      "metadata": {
        "id": "VTgPwJuVJteS"
      },
      "source": [
        "**plsda**"
      ]
    },
    {
      "cell_type": "code",
      "execution_count": null,
      "metadata": {
        "colab": {
          "base_uri": "https://localhost:8080/"
        },
        "id": "q72LoKvpJteS",
        "outputId": "bdeb8197-89d0-40f6-a7e5-159406b03251"
      },
      "outputs": [
        {
          "name": "stdout",
          "output_type": "stream",
          "text": [
            "for\n",
            "for\n",
            "for\n",
            "for\n",
            "for\n",
            "bacc: 0.47138888888888886 +- 0.06188649506641121, acc: 0.4477777777777778 +- 0.07518583678399844, pr: 0.23368298368298368 +- 0.0436121752735605, rec: 0.5222222222222221 +- 0.19600957396622176\n"
          ]
        }
      ],
      "source": [
        "kf = StratifiedKFold(n_splits=5, shuffle=False)\n",
        "\n",
        "bacc_per_fold = []\n",
        "acc_per_fold = []\n",
        "pre_per_fold = []\n",
        "rec_per_fold = []\n",
        "cm = []\n",
        "hp = []\n",
        "\n",
        "for train_index, test_index in kf.split(numero_sus, y_numero_sus):\n",
        "    index_train_sus, index_test_sus = X.id.isin(numero_sus[train_index]), X.id.isin(numero_sus[test_index])\n",
        "    \n",
        "    X_train, y_train = X_raw.loc[index_train_sus,:], y[index_train_sus]\n",
        "    X_test, y_test = X_raw.loc[index_test_sus,:], y[index_test_sus]\n",
        "\n",
        "    rus = RandomUnderSampler(random_state=42)\n",
        "    X_train, y_train = rus.fit_resample(X_train, y_train)\n",
        "    \n",
        "    y_train = get_dummy_matrix(y_train)\n",
        "    y_test = get_dummy_matrix(y_test.values)\n",
        "    \n",
        "    pls_da = PLSRegression(n_components=2)\n",
        "    pls_da.fit(X_train, np.transpose(y_train))\n",
        "    preds = pls_da.predict(X_test)\n",
        "    normalized_pred = []\n",
        "    normalized_true = []\n",
        "\n",
        "        \n",
        "    for i in range(0, preds.shape[0]):\n",
        "        index_pred = np.argmax(preds[i])\n",
        "        normalized_pred.append(index_pred+1)\n",
        "        index_true = np.argmax(np.transpose(y_test)[i])\n",
        "        normalized_true.append(index_true+1)\n",
        "    \n",
        "    cm.append(confusion_matrix(normalized_true, normalized_pred))\n",
        "    bacc_per_fold.append(balanced_accuracy_score(normalized_true, normalized_pred))\n",
        "    acc_per_fold.append(accuracy_score(normalized_true, normalized_pred))\n",
        "    pre_per_fold.append(precision_score(normalized_true, normalized_pred))\n",
        "    rec_per_fold.append(recall_score(normalized_true, normalized_pred))\n",
        "    print('for')\n",
        "\n",
        "print(\"bacc: {} +- {}, acc: {} +- {}, pr: {} +- {}, rec: {} +- {}\".format(np.mean(bacc_per_fold), np.std(bacc_per_fold),np.mean(acc_per_fold), np.std(acc_per_fold),\n",
        "                                                              np.mean(pre_per_fold), np.std(pre_per_fold),\n",
        "                                                              np.mean(rec_per_fold), np.std(rec_per_fold)))"
      ]
    },
    {
      "cell_type": "code",
      "execution_count": null,
      "metadata": {
        "colab": {
          "base_uri": "https://localhost:8080/"
        },
        "id": "rUmWmk-lJteT",
        "outputId": "73c5ab26-91dc-46a1-8d14-37913a4ff90c"
      },
      "outputs": [
        {
          "name": "stdout",
          "output_type": "stream",
          "text": [
            "list cm: [array([[ 6, 12],\n",
            "       [27, 18]]), array([[11,  7],\n",
            "       [28, 17]]), array([[ 9,  6],\n",
            "       [24, 24]]), array([[ 4, 11],\n",
            "       [18, 30]]), array([[12,  3],\n",
            "       [36,  9]])] \n",
            " cm: [[ 42  39]\n",
            " [133  98]]\n",
            "bacc: [0.3666666666666667, 0.49444444444444446, 0.55, 0.4458333333333333, 0.5], acc: [0.38095238095238093, 0.4444444444444444, 0.5238095238095238, 0.5396825396825397, 0.35], pr: [0.18181818181818182, 0.28205128205128205, 0.2727272727272727, 0.18181818181818182, 0.25], rec: [0.3333333333333333, 0.6111111111111112, 0.6, 0.26666666666666666, 0.8]\n"
          ]
        }
      ],
      "source": [
        "print('list cm: {} \\n cm: {}'.format(cm, sum(cm)))\n",
        "#print('hiperparametros: {}'.format(hp))\n",
        "print(\"bacc: {}, acc: {}, pr: {}, rec: {}\".format(bacc_per_fold,acc_per_fold,pre_per_fold,rec_per_fold))"
      ]
    },
    {
      "cell_type": "code",
      "execution_count": null,
      "metadata": {
        "id": "w2ZUfxaEKaNQ"
      },
      "outputs": [],
      "source": []
    },
    {
      "cell_type": "markdown",
      "metadata": {
        "id": "Gf7sC6HFKa64"
      },
      "source": [
        "**window**"
      ]
    },
    {
      "cell_type": "markdown",
      "metadata": {
        "id": "0qlaGjGFK07A"
      },
      "source": [
        "**svm**"
      ]
    },
    {
      "cell_type": "code",
      "execution_count": null,
      "metadata": {
        "colab": {
          "base_uri": "https://localhost:8080/"
        },
        "id": "m_z1voNIK07Q",
        "outputId": "10079313-3909-4e24-af58-1d774c8bf4f0"
      },
      "outputs": [
        {
          "name": "stdout",
          "output_type": "stream",
          "text": [
            "bacc: 0.5472222222222223 +- 0.05617192798744903, acc: 0.5704761904761904 +- 0.03892741855484274, pr: 0.7826651588850678 +- 0.032622237574890446, rec: 0.5855555555555555 +- 0.12105057100543039\n"
          ]
        }
      ],
      "source": [
        "kf = StratifiedKFold(n_splits=5, shuffle=False)\n",
        "\n",
        "bacc_per_fold = []\n",
        "acc_per_fold = []\n",
        "pre_per_fold = []\n",
        "rec_per_fold = []\n",
        "cm = []\n",
        "hp = []\n",
        "\n",
        "for train_index, test_index in kf.split(numero_sus, y_numero_sus):\n",
        "    index_train_sus, index_test_sus = X.id.isin(numero_sus[train_index]), X.id.isin(numero_sus[test_index])\n",
        "    X_train, y_train = X_50[index_train_sus], y[index_train_sus]\n",
        "    X_test, y_test = X_50[index_test_sus], y[index_test_sus]\n",
        "\n",
        "    rus = RandomUnderSampler(random_state=42)\n",
        "    X_train, y_train = rus.fit_resample(X_train, y_train)\n",
        "    \n",
        "    grade={'C':[1,10,100,1000],\n",
        "       'gamma':[1,0.1,0.001,0.0001], \n",
        "       'kernel':['linear','rbf']}\n",
        "\n",
        "    model = SVC()\n",
        "    gs = GridSearchCV(estimator=model, param_grid = grade,\n",
        "                  scoring='balanced_accuracy', cv = 5)\n",
        "    gs.fit(X_train, y_train)\n",
        "    \n",
        "    pred = gs.predict(X_test)\n",
        "    \n",
        "    hp.append(gs.best_params_)\n",
        "    cm.append(confusion_matrix(y_test, pred))\n",
        "    bacc_per_fold.append(balanced_accuracy_score(y_test, pred))\n",
        "    acc_per_fold.append(accuracy_score(y_test, pred))\n",
        "    pre_per_fold.append(precision_score(y_test, pred))\n",
        "    rec_per_fold.append(recall_score(y_test, pred))\n",
        "\n",
        "print(\"bacc: {} +- {}, acc: {} +- {}, pr: {} +- {}, rec: {} +- {}\".format(np.mean(bacc_per_fold), np.std(bacc_per_fold),np.mean(acc_per_fold), np.std(acc_per_fold),\n",
        "                                                              np.mean(pre_per_fold), np.std(pre_per_fold),\n",
        "                                                              np.mean(rec_per_fold), np.std(rec_per_fold)))"
      ]
    },
    {
      "cell_type": "code",
      "execution_count": null,
      "metadata": {
        "colab": {
          "base_uri": "https://localhost:8080/"
        },
        "id": "Tz2BeLh1K07S",
        "outputId": "8887ccd0-5dc9-4e70-909d-fad92ac55baa"
      },
      "outputs": [
        {
          "name": "stdout",
          "output_type": "stream",
          "text": [
            "list cm: [array([[11,  7],\n",
            "       [23, 22]]), array([[12,  6],\n",
            "       [23, 22]]), array([[ 1, 14],\n",
            "       [ 9, 39]]), array([[ 8,  7],\n",
            "       [19, 29]]), array([[10,  5],\n",
            "       [21, 24]])] \n",
            " cm: [[ 42  39]\n",
            " [ 95 136]]\n",
            "hiperparametros: [{'C': 1000, 'gamma': 0.1, 'kernel': 'rbf'}, {'C': 100, 'gamma': 0.1, 'kernel': 'rbf'}, {'C': 1000, 'gamma': 0.1, 'kernel': 'rbf'}, {'C': 100, 'gamma': 0.1, 'kernel': 'rbf'}, {'C': 1000, 'gamma': 1, 'kernel': 'rbf'}]\n",
            "bacc: [0.55, 0.5777777777777777, 0.4395833333333333, 0.56875, 0.6], acc: [0.5238095238095238, 0.5396825396825397, 0.6349206349206349, 0.5873015873015873, 0.5666666666666667], pr: [0.7586206896551724, 0.7857142857142857, 0.7358490566037735, 0.8055555555555556, 0.8275862068965517], rec: [0.4888888888888889, 0.4888888888888889, 0.8125, 0.6041666666666666, 0.5333333333333333]\n"
          ]
        }
      ],
      "source": [
        "print('list cm: {} \\n cm: {}'.format(cm, sum(cm)))\n",
        "print('hiperparametros: {}'.format(hp))\n",
        "print(\"bacc: {}, acc: {}, pr: {}, rec: {}\".format(bacc_per_fold,acc_per_fold,pre_per_fold,rec_per_fold))"
      ]
    },
    {
      "cell_type": "markdown",
      "metadata": {
        "id": "DMsUVvBGK07T"
      },
      "source": [
        "**knn**"
      ]
    },
    {
      "cell_type": "code",
      "execution_count": null,
      "metadata": {
        "colab": {
          "base_uri": "https://localhost:8080/"
        },
        "id": "EjYiLVX4K07T",
        "outputId": "e42b61ed-3cf2-4a52-ec74-efdd4a9c846a"
      },
      "outputs": [
        {
          "name": "stdout",
          "output_type": "stream",
          "text": [
            "bacc: 0.5234722222222222 +- 0.07149527308902368, acc: 0.5576190476190476 +- 0.09862700679906906, pr: 0.7546071428571428 +- 0.04570764460689485, rec: 0.5847222222222221 +- 0.15258068094464272\n"
          ]
        }
      ],
      "source": [
        "kf = StratifiedKFold(n_splits=5, shuffle=False)\n",
        "\n",
        "bacc_per_fold = []\n",
        "acc_per_fold = []\n",
        "pre_per_fold = []\n",
        "rec_per_fold = []\n",
        "cm = []\n",
        "hp = []\n",
        "\n",
        "for train_index, test_index in kf.split(numero_sus, y_numero_sus):\n",
        "    index_train_sus, index_test_sus = X.id.isin(numero_sus[train_index]), X.id.isin(numero_sus[test_index])\n",
        "    X_train, y_train = X_50[index_train_sus], y[index_train_sus]\n",
        "    X_test, y_test = X_50[index_test_sus], y[index_test_sus]\n",
        "\n",
        "    rus = RandomUnderSampler(random_state=42)\n",
        "    X_train, y_train = rus.fit_resample(X_train, y_train)\n",
        "    \n",
        "    grade={'n_neighbors': list(range(31))}\n",
        "\n",
        "    model = KNeighborsClassifier()\n",
        "    gs = GridSearchCV(estimator=model, param_grid = grade,\n",
        "                  scoring='balanced_accuracy', cv = 5)\n",
        "    gs.fit(X_train, y_train)\n",
        "    \n",
        "    pred = gs.predict(X_test)\n",
        "    \n",
        "    hp.append(gs.best_params_)\n",
        "    cm.append(confusion_matrix(y_test, pred))\n",
        "    bacc_per_fold.append(balanced_accuracy_score(y_test, pred))\n",
        "    acc_per_fold.append(accuracy_score(y_test, pred))\n",
        "    pre_per_fold.append(precision_score(y_test, pred))\n",
        "    rec_per_fold.append(recall_score(y_test, pred))\n",
        "\n",
        "print(\"bacc: {} +- {}, acc: {} +- {}, pr: {} +- {}, rec: {} +- {}\".format(np.mean(bacc_per_fold), np.std(bacc_per_fold),np.mean(acc_per_fold), np.std(acc_per_fold),\n",
        "                                                              np.mean(pre_per_fold), np.std(pre_per_fold),\n",
        "                                                              np.mean(rec_per_fold), np.std(rec_per_fold)))"
      ]
    },
    {
      "cell_type": "code",
      "execution_count": null,
      "metadata": {
        "colab": {
          "base_uri": "https://localhost:8080/"
        },
        "id": "kNUuxp8mK07U",
        "outputId": "e5894403-1e1f-4abe-9120-9bc62589c1e4"
      },
      "outputs": [
        {
          "name": "stdout",
          "output_type": "stream",
          "text": [
            "list cm: [array([[ 9,  9],\n",
            "       [22, 23]]), array([[11,  7],\n",
            "       [27, 18]]), array([[ 6,  9],\n",
            "       [ 7, 41]]), array([[ 3, 12],\n",
            "       [18, 30]]), array([[ 9,  6],\n",
            "       [21, 24]])] \n",
            " cm: [[ 38  43]\n",
            " [ 95 136]]\n",
            "hiperparametros: [{'n_neighbors': 9}, {'n_neighbors': 1}, {'n_neighbors': 12}, {'n_neighbors': 1}, {'n_neighbors': 1}]\n",
            "bacc: [0.5055555555555555, 0.5055555555555555, 0.6270833333333333, 0.4125, 0.5666666666666667], acc: [0.5079365079365079, 0.4603174603174603, 0.746031746031746, 0.5238095238095238, 0.55], pr: [0.71875, 0.72, 0.82, 0.7142857142857143, 0.8], rec: [0.5111111111111111, 0.4, 0.8541666666666666, 0.625, 0.5333333333333333]\n"
          ]
        }
      ],
      "source": [
        "print('list cm: {} \\n cm: {}'.format(cm, sum(cm)))\n",
        "print('hiperparametros: {}'.format(hp))\n",
        "print(\"bacc: {}, acc: {}, pr: {}, rec: {}\".format(bacc_per_fold,acc_per_fold,pre_per_fold,rec_per_fold))"
      ]
    },
    {
      "cell_type": "markdown",
      "metadata": {
        "id": "Q2tWnDIcK07V"
      },
      "source": [
        "**xgboost**"
      ]
    },
    {
      "cell_type": "code",
      "execution_count": null,
      "metadata": {
        "colab": {
          "base_uri": "https://localhost:8080/"
        },
        "id": "jH04zWXtK07V",
        "outputId": "ae2c6a62-8285-48d8-867b-6856bd178da1"
      },
      "outputs": [
        {
          "name": "stdout",
          "output_type": "stream",
          "text": [
            "for\n",
            "for\n",
            "for\n",
            "for\n",
            "for\n",
            "bacc: 0.5605555555555556 +- 0.09987202459295744, acc: 0.6228571428571429 +- 0.068659555363445, pr: 0.7785281592311721 +- 0.0648682602235241, rec: 0.6877777777777778 +- 0.08275447099181894\n"
          ]
        }
      ],
      "source": [
        "kf = StratifiedKFold(n_splits=5, shuffle=False)\n",
        "\n",
        "bacc_per_fold = []\n",
        "acc_per_fold = []\n",
        "pre_per_fold = []\n",
        "rec_per_fold = []\n",
        "cm = []\n",
        "hp = []\n",
        "\n",
        "for train_index, test_index in kf.split(numero_sus, y_numero_sus):\n",
        "    index_train_sus, index_test_sus = X.id.isin(numero_sus[train_index]), X.id.isin(numero_sus[test_index])\n",
        "    X_train, y_train = X_25[index_train_sus], y[index_train_sus]\n",
        "    X_test, y_test = X_25[index_test_sus], y[index_test_sus]\n",
        "\n",
        "    rus = RandomUnderSampler(random_state=42)\n",
        "    X_train, y_train = rus.fit_resample(X_train, y_train)\n",
        "    \n",
        "    grade={\n",
        "        'colsample_bytree': [0.6, 0.8, 1.0],\n",
        "        'n_estimators': [10, 25, 50],\n",
        "       'max_depth': [5, 10, 20],\n",
        "       'max_features': ['auto', 'sqrt'],\n",
        "       'min_samples_leaf': [1, 2, 4],\n",
        "       'min_samples_split': [2, 5, 10]\n",
        "        }\n",
        "\n",
        "    model = XGBClassifier()\n",
        "    gs = GridSearchCV(estimator=model, param_grid = grade,\n",
        "                  scoring='balanced_accuracy', cv = 5)\n",
        "    gs.fit(X_train, y_train)\n",
        "    \n",
        "    pred = gs.predict(X_test)\n",
        "    \n",
        "    hp.append(gs.best_params_)\n",
        "    cm.append(confusion_matrix(y_test, pred))\n",
        "    bacc_per_fold.append(balanced_accuracy_score(y_test, pred))\n",
        "    acc_per_fold.append(accuracy_score(y_test, pred))\n",
        "    pre_per_fold.append(precision_score(y_test, pred))\n",
        "    rec_per_fold.append(recall_score(y_test, pred))\n",
        "    print('for')\n",
        "\n",
        "print(\"bacc: {} +- {}, acc: {} +- {}, pr: {} +- {}, rec: {} +- {}\".format(np.mean(bacc_per_fold), np.std(bacc_per_fold),np.mean(acc_per_fold), np.std(acc_per_fold),\n",
        "                                                              np.mean(pre_per_fold), np.std(pre_per_fold),\n",
        "                                                              np.mean(rec_per_fold), np.std(rec_per_fold)))"
      ]
    },
    {
      "cell_type": "code",
      "execution_count": null,
      "metadata": {
        "colab": {
          "base_uri": "https://localhost:8080/"
        },
        "id": "WJRvtStiK07W",
        "outputId": "2af0255e-dcf4-4d45-a6b1-cef183c42f98"
      },
      "outputs": [
        {
          "name": "stdout",
          "output_type": "stream",
          "text": [
            "list cm: [array([[ 8, 10],\n",
            "       [20, 25]]), array([[ 7, 11],\n",
            "       [14, 31]]), array([[ 1, 14],\n",
            "       [11, 37]]), array([[10,  5],\n",
            "       [17, 31]]), array([[ 9,  6],\n",
            "       [10, 35]])] \n",
            " cm: [[ 35  46]\n",
            " [ 72 159]]\n",
            "hiperparametros: [{'colsample_bytree': 1.0, 'max_depth': 5, 'max_features': 'auto', 'min_samples_leaf': 1, 'min_samples_split': 2, 'n_estimators': 10}, {'colsample_bytree': 0.8, 'max_depth': 10, 'max_features': 'auto', 'min_samples_leaf': 1, 'min_samples_split': 2, 'n_estimators': 25}, {'colsample_bytree': 0.8, 'max_depth': 10, 'max_features': 'auto', 'min_samples_leaf': 1, 'min_samples_split': 2, 'n_estimators': 10}, {'colsample_bytree': 1.0, 'max_depth': 5, 'max_features': 'auto', 'min_samples_leaf': 1, 'min_samples_split': 2, 'n_estimators': 50}, {'colsample_bytree': 0.8, 'max_depth': 10, 'max_features': 'auto', 'min_samples_leaf': 1, 'min_samples_split': 2, 'n_estimators': 25}]\n",
            "bacc: [0.5, 0.5388888888888889, 0.41875, 0.65625, 0.6888888888888889], acc: [0.5238095238095238, 0.6031746031746031, 0.6031746031746031, 0.6507936507936508, 0.7333333333333333], pr: [0.7142857142857143, 0.7380952380952381, 0.7254901960784313, 0.8611111111111112, 0.8536585365853658], rec: [0.5555555555555556, 0.6888888888888889, 0.7708333333333334, 0.6458333333333334, 0.7777777777777778]\n"
          ]
        }
      ],
      "source": [
        "print('list cm: {} \\n cm: {}'.format(cm, sum(cm)))\n",
        "print('hiperparametros: {}'.format(hp))\n",
        "print(\"bacc: {}, acc: {}, pr: {}, rec: {}\".format(bacc_per_fold,acc_per_fold,pre_per_fold,rec_per_fold))"
      ]
    },
    {
      "cell_type": "markdown",
      "metadata": {
        "id": "6HAhBbu0K07W"
      },
      "source": [
        "**mlp**"
      ]
    },
    {
      "cell_type": "code",
      "execution_count": null,
      "metadata": {
        "colab": {
          "base_uri": "https://localhost:8080/"
        },
        "id": "7uwN0s25K07W",
        "outputId": "b4a662c9-d8c7-4f28-ddaa-3e6a401e072d"
      },
      "outputs": [
        {
          "name": "stdout",
          "output_type": "stream",
          "text": [
            "for\n",
            "for\n",
            "for\n",
            "for\n",
            "for\n",
            "bacc: 0.5847222222222223 +- 0.0982907550630485, acc: 0.6163492063492064 +- 0.06454601425854387, pr: 0.8018999067948804 +- 0.07229081293314027, rec: 0.6427777777777778 +- 0.08781205378604613\n"
          ]
        }
      ],
      "source": [
        "kf = StratifiedKFold(n_splits=5, shuffle=False)\n",
        "\n",
        "bacc_per_fold = []\n",
        "acc_per_fold = []\n",
        "pre_per_fold = []\n",
        "rec_per_fold = []\n",
        "cm = []\n",
        "hp = []\n",
        "\n",
        "for train_index, test_index in kf.split(numero_sus, y_numero_sus):\n",
        "    index_train_sus, index_test_sus = X.id.isin(numero_sus[train_index]), X.id.isin(numero_sus[test_index])\n",
        "    X_train, y_train = X_50[index_train_sus], y[index_train_sus]\n",
        "    X_test, y_test = X_50[index_test_sus], y[index_test_sus]\n",
        "\n",
        "    rus = RandomUnderSampler(random_state=42)\n",
        "    X_train, y_train = rus.fit_resample(X_train, y_train)\n",
        "    \n",
        "    grade={\n",
        "    'hidden_layer_sizes': [(50,50,50), (50,100,50), (50,100)],\n",
        "    'activation': ['tanh', 'relu'],\n",
        "    'solver': ['sgd', 'adam'],\n",
        "    'alpha': [0.0001, 0.05],\n",
        "    'learning_rate': ['constant','adaptive'],\n",
        "    }\n",
        "\n",
        "    model = MLPClassifier()\n",
        "    gs = GridSearchCV(estimator=model, param_grid = grade,\n",
        "                  scoring='balanced_accuracy', cv = 5)\n",
        "    gs.fit(X_train, y_train)\n",
        "    \n",
        "    pred = gs.predict(X_test)\n",
        "    \n",
        "    hp.append(gs.best_params_)\n",
        "    cm.append(confusion_matrix(y_test, pred))\n",
        "    bacc_per_fold.append(balanced_accuracy_score(y_test, pred))\n",
        "    acc_per_fold.append(accuracy_score(y_test, pred))\n",
        "    pre_per_fold.append(precision_score(y_test, pred))\n",
        "    rec_per_fold.append(recall_score(y_test, pred))\n",
        "    print('for')\n",
        "\n",
        "print(\"bacc: {} +- {}, acc: {} +- {}, pr: {} +- {}, rec: {} +- {}\".format(np.mean(bacc_per_fold), np.std(bacc_per_fold),np.mean(acc_per_fold), np.std(acc_per_fold),\n",
        "                                                              np.mean(pre_per_fold), np.std(pre_per_fold),\n",
        "                                                              np.mean(rec_per_fold), np.std(rec_per_fold)))"
      ]
    },
    {
      "cell_type": "code",
      "execution_count": null,
      "metadata": {
        "colab": {
          "base_uri": "https://localhost:8080/"
        },
        "id": "xWSsdQFLK07X",
        "outputId": "cdc5c5c6-e5fb-43ea-f6de-a7a697db830b"
      },
      "outputs": [
        {
          "name": "stdout",
          "output_type": "stream",
          "text": [
            "list cm: [array([[ 9,  9],\n",
            "       [21, 24]]), array([[12,  6],\n",
            "       [20, 25]]), array([[ 4, 11],\n",
            "       [11, 37]]), array([[ 5, 10],\n",
            "       [15, 33]]), array([[13,  2],\n",
            "       [15, 30]])] \n",
            " cm: [[ 43  38]\n",
            " [ 82 149]]\n",
            "hiperparametros: [{'activation': 'relu', 'alpha': 0.0001, 'hidden_layer_sizes': (50, 100, 50), 'learning_rate': 'adaptive', 'solver': 'adam'}, {'activation': 'relu', 'alpha': 0.05, 'hidden_layer_sizes': (50, 100, 50), 'learning_rate': 'adaptive', 'solver': 'adam'}, {'activation': 'relu', 'alpha': 0.05, 'hidden_layer_sizes': (50, 50, 50), 'learning_rate': 'constant', 'solver': 'adam'}, {'activation': 'relu', 'alpha': 0.0001, 'hidden_layer_sizes': (50, 100, 50), 'learning_rate': 'constant', 'solver': 'adam'}, {'activation': 'relu', 'alpha': 0.05, 'hidden_layer_sizes': (50, 100, 50), 'learning_rate': 'constant', 'solver': 'adam'}]\n",
            "bacc: [0.5166666666666666, 0.6111111111111112, 0.51875, 0.5104166666666666, 0.7666666666666666], acc: [0.5238095238095238, 0.5873015873015873, 0.6507936507936508, 0.6031746031746031, 0.7166666666666667], pr: [0.7272727272727273, 0.8064516129032258, 0.7708333333333334, 0.7674418604651163, 0.9375], rec: [0.5333333333333333, 0.5555555555555556, 0.7708333333333334, 0.6875, 0.6666666666666666]\n"
          ]
        }
      ],
      "source": [
        "print('list cm: {} \\n cm: {}'.format(cm, sum(cm)))\n",
        "print('hiperparametros: {}'.format(hp))\n",
        "print(\"bacc: {}, acc: {}, pr: {}, rec: {}\".format(bacc_per_fold,acc_per_fold,pre_per_fold,rec_per_fold))"
      ]
    },
    {
      "cell_type": "markdown",
      "metadata": {
        "id": "6_Wt5hXUK07X"
      },
      "source": [
        "**plsda**"
      ]
    },
    {
      "cell_type": "code",
      "execution_count": null,
      "metadata": {
        "colab": {
          "base_uri": "https://localhost:8080/"
        },
        "id": "ysYBocQiK07X",
        "outputId": "6eb490c7-8775-4a0b-9c15-5eba35781e7b"
      },
      "outputs": [
        {
          "name": "stdout",
          "output_type": "stream",
          "text": [
            "for\n",
            "for\n",
            "for\n",
            "for\n",
            "for\n",
            "bacc: 0.5504166666666667 +- 0.11936172846529251, acc: 0.5911111111111111 +- 0.1154159282020521, pr: 0.2948150609080842 +- 0.109572326469423, rec: 0.4822222222222222 +- 0.29225390618264174\n"
          ]
        }
      ],
      "source": [
        "kf = StratifiedKFold(n_splits=5, shuffle=False)\n",
        "\n",
        "bacc_per_fold = []\n",
        "acc_per_fold = []\n",
        "pre_per_fold = []\n",
        "rec_per_fold = []\n",
        "cm = []\n",
        "hp = []\n",
        "\n",
        "for train_index, test_index in kf.split(numero_sus, y_numero_sus):\n",
        "    index_train_sus, index_test_sus = X.id.isin(numero_sus[train_index]), X.id.isin(numero_sus[test_index])\n",
        "    \n",
        "    X_train, y_train = X_50[index_train_sus], y[index_train_sus]\n",
        "    X_test, y_test = X_50[index_test_sus], y[index_test_sus]\n",
        "\n",
        "    rus = RandomUnderSampler(random_state=42)\n",
        "    X_train, y_train = rus.fit_resample(X_train, y_train)\n",
        "    \n",
        "    y_train = get_dummy_matrix(y_train)\n",
        "    y_test = get_dummy_matrix(y_test.values)\n",
        "    \n",
        "    pls_da = PLSRegression(n_components=2)\n",
        "    pls_da.fit(X_train, np.transpose(y_train))\n",
        "    preds = pls_da.predict(X_test)\n",
        "    normalized_pred = []\n",
        "    normalized_true = []\n",
        "\n",
        "        \n",
        "    for i in range(0, preds.shape[0]):\n",
        "        index_pred = np.argmax(preds[i])\n",
        "        normalized_pred.append(index_pred+1)\n",
        "        index_true = np.argmax(np.transpose(y_test)[i])\n",
        "        normalized_true.append(index_true+1)\n",
        "    \n",
        "    cm.append(confusion_matrix(normalized_true, normalized_pred))\n",
        "    bacc_per_fold.append(balanced_accuracy_score(normalized_true, normalized_pred))\n",
        "    acc_per_fold.append(accuracy_score(normalized_true, normalized_pred))\n",
        "    pre_per_fold.append(precision_score(normalized_true, normalized_pred))\n",
        "    rec_per_fold.append(recall_score(normalized_true, normalized_pred))\n",
        "    print('for')\n",
        "\n",
        "print(\"bacc: {} +- {}, acc: {} +- {}, pr: {} +- {}, rec: {} +- {}\".format(np.mean(bacc_per_fold), np.std(bacc_per_fold),np.mean(acc_per_fold), np.std(acc_per_fold),\n",
        "                                                              np.mean(pre_per_fold), np.std(pre_per_fold),\n",
        "                                                              np.mean(rec_per_fold), np.std(rec_per_fold)))"
      ]
    },
    {
      "cell_type": "code",
      "execution_count": null,
      "metadata": {
        "colab": {
          "base_uri": "https://localhost:8080/"
        },
        "id": "jtRsfYtHK07Z",
        "outputId": "b1bc55f8-d5dd-4e12-d289-499043f0211c"
      },
      "outputs": [
        {
          "name": "stdout",
          "output_type": "stream",
          "text": [
            "list cm: [array([[ 8, 10],\n",
            "       [27, 18]]), array([[15,  3],\n",
            "       [28, 17]]), array([[ 3, 12],\n",
            "       [ 9, 39]]), array([[ 2, 13],\n",
            "       [10, 38]]), array([[12,  3],\n",
            "       [13, 32]])] \n",
            " cm: [[ 40  41]\n",
            " [ 87 144]]\n",
            "bacc: [0.4222222222222222, 0.6055555555555556, 0.50625, 0.46249999999999997, 0.7555555555555555], acc: [0.4126984126984127, 0.5079365079365079, 0.6666666666666666, 0.6349206349206349, 0.7333333333333333], pr: [0.22857142857142856, 0.3488372093023256, 0.25, 0.16666666666666666, 0.48], rec: [0.4444444444444444, 0.8333333333333334, 0.2, 0.13333333333333333, 0.8]\n"
          ]
        }
      ],
      "source": [
        "print('list cm: {} \\n cm: {}'.format(cm, sum(cm)))\n",
        "#print('hiperparametros: {}'.format(hp))\n",
        "print(\"bacc: {}, acc: {}, pr: {}, rec: {}\".format(bacc_per_fold,acc_per_fold,pre_per_fold,rec_per_fold))"
      ]
    },
    {
      "cell_type": "code",
      "execution_count": null,
      "metadata": {
        "id": "DuBPprg7Ld0f"
      },
      "outputs": [],
      "source": []
    },
    {
      "cell_type": "markdown",
      "metadata": {
        "id": "SA7Ac58MLf8m"
      },
      "source": [
        "**overwindow**"
      ]
    },
    {
      "cell_type": "code",
      "execution_count": null,
      "metadata": {
        "id": "YmBdbflzL2qd"
      },
      "outputs": [],
      "source": [
        "from imblearn.over_sampling import SMOTE"
      ]
    },
    {
      "cell_type": "markdown",
      "metadata": {
        "id": "7P3WI9ADLoxV"
      },
      "source": [
        "**svm**"
      ]
    },
    {
      "cell_type": "code",
      "execution_count": null,
      "metadata": {
        "colab": {
          "base_uri": "https://localhost:8080/"
        },
        "id": "FoDjhJZqLoxW",
        "outputId": "b7a01531-81ad-456f-f9b4-796da9d33f9e"
      },
      "outputs": [
        {
          "name": "stdout",
          "output_type": "stream",
          "text": [
            "bacc: 0.5625 +- 0.0450201429540704, acc: 0.638095238095238 +- 0.04856209060564555, pr: 0.7801271343460546 +- 0.030940814559447506, rec: 0.7116666666666667 +- 0.10595174186835378\n"
          ]
        }
      ],
      "source": [
        "kf = StratifiedKFold(n_splits=5, shuffle=False)\n",
        "\n",
        "bacc_per_fold = []\n",
        "acc_per_fold = []\n",
        "pre_per_fold = []\n",
        "rec_per_fold = []\n",
        "cm = []\n",
        "hp = []\n",
        "\n",
        "for train_index, test_index in kf.split(numero_sus, y_numero_sus):\n",
        "    index_train_sus, index_test_sus = X.id.isin(numero_sus[train_index]), X.id.isin(numero_sus[test_index])\n",
        "    X_train, y_train = X_50[index_train_sus], y[index_train_sus]\n",
        "    X_test, y_test = X_50[index_test_sus], y[index_test_sus]\n",
        "\n",
        "    rus = SMOTE(random_state=42)\n",
        "    X_train, y_train = rus.fit_resample(X_train, y_train)\n",
        "    \n",
        "    grade={'C':[1,10,100,1000],\n",
        "       'gamma':[1,0.1,0.001,0.0001], \n",
        "       'kernel':['linear','rbf']}\n",
        "\n",
        "    model = SVC()\n",
        "    gs = GridSearchCV(estimator=model, param_grid = grade,\n",
        "                  scoring='balanced_accuracy', cv = 5)\n",
        "    gs.fit(X_train, y_train)\n",
        "    \n",
        "    pred = gs.predict(X_test)\n",
        "    \n",
        "    hp.append(gs.best_params_)\n",
        "    cm.append(confusion_matrix(y_test, pred))\n",
        "    bacc_per_fold.append(balanced_accuracy_score(y_test, pred))\n",
        "    acc_per_fold.append(accuracy_score(y_test, pred))\n",
        "    pre_per_fold.append(precision_score(y_test, pred))\n",
        "    rec_per_fold.append(recall_score(y_test, pred))\n",
        "\n",
        "print(\"bacc: {} +- {}, acc: {} +- {}, pr: {} +- {}, rec: {} +- {}\".format(np.mean(bacc_per_fold), np.std(bacc_per_fold),np.mean(acc_per_fold), np.std(acc_per_fold),\n",
        "                                                              np.mean(pre_per_fold), np.std(pre_per_fold),\n",
        "                                                              np.mean(rec_per_fold), np.std(rec_per_fold)))"
      ]
    },
    {
      "cell_type": "code",
      "execution_count": null,
      "metadata": {
        "colab": {
          "base_uri": "https://localhost:8080/"
        },
        "id": "RuZIjnA2LoxX",
        "outputId": "27cf5f03-5f2b-4e05-e3fd-af50304b42a8"
      },
      "outputs": [
        {
          "name": "stdout",
          "output_type": "stream",
          "text": [
            "list cm: [array([[ 7, 11],\n",
            "       [13, 32]]), array([[11,  7],\n",
            "       [21, 24]]), array([[ 3, 12],\n",
            "       [ 7, 41]]), array([[ 4, 11],\n",
            "       [11, 37]]), array([[ 9,  6],\n",
            "       [14, 31]])] \n",
            " cm: [[ 34  47]\n",
            " [ 66 165]]\n",
            "hiperparametros: [{'C': 1000, 'gamma': 1, 'kernel': 'rbf'}, {'C': 100, 'gamma': 1, 'kernel': 'rbf'}, {'C': 1, 'gamma': 1, 'kernel': 'rbf'}, {'C': 10, 'gamma': 1, 'kernel': 'rbf'}, {'C': 100, 'gamma': 1, 'kernel': 'rbf'}]\n",
            "bacc: [0.55, 0.5722222222222222, 0.5270833333333333, 0.51875, 0.6444444444444444], acc: [0.6190476190476191, 0.5555555555555556, 0.6984126984126984, 0.6507936507936508, 0.6666666666666666], pr: [0.7441860465116279, 0.7741935483870968, 0.7735849056603774, 0.7708333333333334, 0.8378378378378378], rec: [0.7111111111111111, 0.5333333333333333, 0.8541666666666666, 0.7708333333333334, 0.6888888888888889]\n"
          ]
        }
      ],
      "source": [
        "print('list cm: {} \\n cm: {}'.format(cm, sum(cm)))\n",
        "print('hiperparametros: {}'.format(hp))\n",
        "print(\"bacc: {}, acc: {}, pr: {}, rec: {}\".format(bacc_per_fold,acc_per_fold,pre_per_fold,rec_per_fold))"
      ]
    },
    {
      "cell_type": "markdown",
      "metadata": {
        "id": "-WKGz_ePLoxX"
      },
      "source": [
        "**knn**"
      ]
    },
    {
      "cell_type": "code",
      "execution_count": null,
      "metadata": {
        "colab": {
          "base_uri": "https://localhost:8080/"
        },
        "id": "cNL_gqJ1LoxY",
        "outputId": "802a2da9-6310-4f4c-9a41-4ee770d23205"
      },
      "outputs": [
        {
          "name": "stdout",
          "output_type": "stream",
          "text": [
            "bacc: 0.5555555555555556 +- 0.08049327094028831, acc: 0.6225396825396825 +- 0.04696267206406945, pr: 0.7790490599294946 +- 0.045098575841154724, rec: 0.6866666666666668 +- 0.07704816515067972\n"
          ]
        }
      ],
      "source": [
        "kf = StratifiedKFold(n_splits=5, shuffle=False)\n",
        "\n",
        "bacc_per_fold = []\n",
        "acc_per_fold = []\n",
        "pre_per_fold = []\n",
        "rec_per_fold = []\n",
        "cm = []\n",
        "hp = []\n",
        "\n",
        "for train_index, test_index in kf.split(numero_sus, y_numero_sus):\n",
        "    index_train_sus, index_test_sus = X.id.isin(numero_sus[train_index]), X.id.isin(numero_sus[test_index])\n",
        "    X_train, y_train = X_50[index_train_sus], y[index_train_sus]\n",
        "    X_test, y_test = X_50[index_test_sus], y[index_test_sus]\n",
        "\n",
        "    rus = SMOTE(random_state=42)\n",
        "    X_train, y_train = rus.fit_resample(X_train, y_train)\n",
        "    \n",
        "    grade={'n_neighbors': list(range(31))}\n",
        "\n",
        "    model = KNeighborsClassifier()\n",
        "    gs = GridSearchCV(estimator=model, param_grid = grade,\n",
        "                  scoring='balanced_accuracy', cv = 5)\n",
        "    gs.fit(X_train, y_train)\n",
        "    \n",
        "    pred = gs.predict(X_test)\n",
        "    \n",
        "    hp.append(gs.best_params_)\n",
        "    cm.append(confusion_matrix(y_test, pred))\n",
        "    bacc_per_fold.append(balanced_accuracy_score(y_test, pred))\n",
        "    acc_per_fold.append(accuracy_score(y_test, pred))\n",
        "    pre_per_fold.append(precision_score(y_test, pred))\n",
        "    rec_per_fold.append(recall_score(y_test, pred))\n",
        "\n",
        "print(\"bacc: {} +- {}, acc: {} +- {}, pr: {} +- {}, rec: {} +- {}\".format(np.mean(bacc_per_fold), np.std(bacc_per_fold),np.mean(acc_per_fold), np.std(acc_per_fold),\n",
        "                                                              np.mean(pre_per_fold), np.std(pre_per_fold),\n",
        "                                                              np.mean(rec_per_fold), np.std(rec_per_fold)))"
      ]
    },
    {
      "cell_type": "code",
      "execution_count": null,
      "metadata": {
        "colab": {
          "base_uri": "https://localhost:8080/"
        },
        "id": "lWpzQv5NLoxY",
        "outputId": "6877bab6-3b66-4df4-871d-7c203bdc0006"
      },
      "outputs": [
        {
          "name": "stdout",
          "output_type": "stream",
          "text": [
            "list cm: [array([[ 8, 10],\n",
            "       [15, 30]]), array([[11,  7],\n",
            "       [20, 25]]), array([[ 3, 12],\n",
            "       [10, 38]]), array([[ 3, 12],\n",
            "       [14, 34]]), array([[10,  5],\n",
            "       [13, 32]])] \n",
            " cm: [[ 35  46]\n",
            " [ 72 159]]\n",
            "hiperparametros: [{'n_neighbors': 1}, {'n_neighbors': 1}, {'n_neighbors': 1}, {'n_neighbors': 1}, {'n_neighbors': 1}]\n",
            "bacc: [0.5555555555555556, 0.5833333333333334, 0.49583333333333335, 0.4541666666666667, 0.6888888888888889], acc: [0.6031746031746031, 0.5714285714285714, 0.6507936507936508, 0.5873015873015873, 0.7], pr: [0.75, 0.78125, 0.76, 0.7391304347826086, 0.8648648648648649], rec: [0.6666666666666666, 0.5555555555555556, 0.7916666666666666, 0.7083333333333334, 0.7111111111111111]\n"
          ]
        }
      ],
      "source": [
        "print('list cm: {} \\n cm: {}'.format(cm, sum(cm)))\n",
        "print('hiperparametros: {}'.format(hp))\n",
        "print(\"bacc: {}, acc: {}, pr: {}, rec: {}\".format(bacc_per_fold,acc_per_fold,pre_per_fold,rec_per_fold))"
      ]
    },
    {
      "cell_type": "markdown",
      "metadata": {
        "id": "Ydm0nZyCLoxZ"
      },
      "source": [
        "**xgboost**"
      ]
    },
    {
      "cell_type": "code",
      "execution_count": null,
      "metadata": {
        "colab": {
          "base_uri": "https://localhost:8080/"
        },
        "id": "DRE-4ABBLoxZ",
        "outputId": "9e28e39a-261f-440c-e9ca-bfa58e27b734"
      },
      "outputs": [
        {
          "name": "stdout",
          "output_type": "stream",
          "text": [
            "for\n",
            "for\n",
            "for\n",
            "for\n",
            "for\n",
            "bacc: 0.5959722222222222 +- 0.18736538377469042, acc: 0.7041269841269842 +- 0.145719472882048, pr: 0.7902278510702558 +- 0.09101789541770793, rec: 0.8141666666666666 +- 0.11765585932952044\n"
          ]
        }
      ],
      "source": [
        "kf = StratifiedKFold(n_splits=5, shuffle=False)\n",
        "\n",
        "bacc_per_fold = []\n",
        "acc_per_fold = []\n",
        "pre_per_fold = []\n",
        "rec_per_fold = []\n",
        "cm = []\n",
        "hp = []\n",
        "\n",
        "for train_index, test_index in kf.split(numero_sus, y_numero_sus):\n",
        "    index_train_sus, index_test_sus = X.id.isin(numero_sus[train_index]), X.id.isin(numero_sus[test_index])\n",
        "    X_train, y_train = X_50[index_train_sus], y[index_train_sus]\n",
        "    X_test, y_test = X_50[index_test_sus], y[index_test_sus]\n",
        "\n",
        "    rus = SMOTE(random_state=42)\n",
        "    X_train, y_train = rus.fit_resample(X_train, y_train)\n",
        "    \n",
        "    grade={\n",
        "        'colsample_bytree': [0.6, 0.8, 1.0],\n",
        "        'n_estimators': [10, 25, 50],\n",
        "       'max_depth': [5, 10, 20],\n",
        "       'max_features': ['auto', 'sqrt'],\n",
        "       'min_samples_leaf': [1, 2, 4],\n",
        "       'min_samples_split': [2, 5, 10]\n",
        "        }\n",
        "\n",
        "    model = XGBClassifier()\n",
        "    gs = GridSearchCV(estimator=model, param_grid = grade,\n",
        "                  scoring='balanced_accuracy', cv = 5)\n",
        "    gs.fit(X_train, y_train)\n",
        "    \n",
        "    pred = gs.predict(X_test)\n",
        "    \n",
        "    hp.append(gs.best_params_)\n",
        "    cm.append(confusion_matrix(y_test, pred))\n",
        "    bacc_per_fold.append(balanced_accuracy_score(y_test, pred))\n",
        "    acc_per_fold.append(accuracy_score(y_test, pred))\n",
        "    pre_per_fold.append(precision_score(y_test, pred))\n",
        "    rec_per_fold.append(recall_score(y_test, pred))\n",
        "    print('for')\n",
        "\n",
        "print(\"bacc: {} +- {}, acc: {} +- {}, pr: {} +- {}, rec: {} +- {}\".format(np.mean(bacc_per_fold), np.std(bacc_per_fold),np.mean(acc_per_fold), np.std(acc_per_fold),\n",
        "                                                              np.mean(pre_per_fold), np.std(pre_per_fold),\n",
        "                                                              np.mean(rec_per_fold), np.std(rec_per_fold)))"
      ]
    },
    {
      "cell_type": "code",
      "execution_count": null,
      "metadata": {
        "colab": {
          "base_uri": "https://localhost:8080/"
        },
        "id": "0U2SFhS4Loxa",
        "outputId": "4d417a93-f441-4336-d250-7d8a33747978"
      },
      "outputs": [
        {
          "name": "stdout",
          "output_type": "stream",
          "text": [
            "list cm: [array([[ 5, 13],\n",
            "       [14, 31]]), array([[11,  7],\n",
            "       [ 9, 36]]), array([[ 0, 15],\n",
            "       [15, 33]]), array([[ 3, 12],\n",
            "       [ 4, 44]]), array([[12,  3],\n",
            "       [ 1, 44]])] \n",
            " cm: [[ 31  50]\n",
            " [ 43 188]]\n",
            "hiperparametros: [{'colsample_bytree': 0.6, 'max_depth': 5, 'max_features': 'auto', 'min_samples_leaf': 1, 'min_samples_split': 2, 'n_estimators': 50}, {'colsample_bytree': 0.6, 'max_depth': 5, 'max_features': 'auto', 'min_samples_leaf': 1, 'min_samples_split': 2, 'n_estimators': 50}, {'colsample_bytree': 0.6, 'max_depth': 10, 'max_features': 'auto', 'min_samples_leaf': 1, 'min_samples_split': 2, 'n_estimators': 25}, {'colsample_bytree': 0.6, 'max_depth': 10, 'max_features': 'auto', 'min_samples_leaf': 1, 'min_samples_split': 2, 'n_estimators': 10}, {'colsample_bytree': 0.6, 'max_depth': 5, 'max_features': 'auto', 'min_samples_leaf': 1, 'min_samples_split': 2, 'n_estimators': 50}]\n",
            "bacc: [0.48333333333333334, 0.7055555555555556, 0.34375, 0.5583333333333333, 0.8888888888888888], acc: [0.5714285714285714, 0.746031746031746, 0.5238095238095238, 0.746031746031746, 0.9333333333333333], pr: [0.7045454545454546, 0.8372093023255814, 0.6875, 0.7857142857142857, 0.9361702127659575], rec: [0.6888888888888889, 0.8, 0.6875, 0.9166666666666666, 0.9777777777777777]\n"
          ]
        }
      ],
      "source": [
        "print('list cm: {} \\n cm: {}'.format(cm, sum(cm)))\n",
        "print('hiperparametros: {}'.format(hp))\n",
        "print(\"bacc: {}, acc: {}, pr: {}, rec: {}\".format(bacc_per_fold,acc_per_fold,pre_per_fold,rec_per_fold))"
      ]
    },
    {
      "cell_type": "markdown",
      "metadata": {
        "id": "33o7y2lULoxa"
      },
      "source": [
        "**mlp**"
      ]
    },
    {
      "cell_type": "code",
      "execution_count": null,
      "metadata": {
        "colab": {
          "base_uri": "https://localhost:8080/"
        },
        "id": "kvZWY6V5Loxa",
        "outputId": "4fdf2d1e-3dfe-4ca2-ce5f-1a0a94af0e84"
      },
      "outputs": [
        {
          "name": "stdout",
          "output_type": "stream",
          "text": [
            "for\n",
            "for\n",
            "for\n",
            "for\n",
            "for\n",
            "bacc: 0.6277777777777778 +- 0.0787292986704175, acc: 0.6993650793650794 +- 0.04287007447465347, pr: 0.8162708052181736 +- 0.0435181192744769, rec: 0.7688888888888888 +- 0.06866001406105449\n"
          ]
        }
      ],
      "source": [
        "kf = StratifiedKFold(n_splits=5, shuffle=False)\n",
        "\n",
        "bacc_per_fold = []\n",
        "acc_per_fold = []\n",
        "pre_per_fold = []\n",
        "rec_per_fold = []\n",
        "cm = []\n",
        "hp = []\n",
        "\n",
        "for train_index, test_index in kf.split(numero_sus, y_numero_sus):\n",
        "    index_train_sus, index_test_sus = X.id.isin(numero_sus[train_index]), X.id.isin(numero_sus[test_index])\n",
        "    X_train, y_train = X_50[index_train_sus], y[index_train_sus]\n",
        "    X_test, y_test = X_50[index_test_sus], y[index_test_sus]\n",
        "\n",
        "    rus = SMOTE(random_state=42)\n",
        "    X_train, y_train = rus.fit_resample(X_train, y_train)\n",
        "    \n",
        "    grade={\n",
        "    'hidden_layer_sizes': [(50,50,50), (50,100,50), (50,100)],\n",
        "    'activation': ['tanh', 'relu'],\n",
        "    'solver': ['sgd', 'adam'],\n",
        "    'alpha': [0.0001, 0.05],\n",
        "    'learning_rate': ['constant','adaptive'],\n",
        "    }\n",
        "\n",
        "    model = MLPClassifier()\n",
        "    gs = GridSearchCV(estimator=model, param_grid = grade,\n",
        "                  scoring='balanced_accuracy', cv = 5)\n",
        "    gs.fit(X_train, y_train)\n",
        "    \n",
        "    pred = gs.predict(X_test)\n",
        "    \n",
        "    hp.append(gs.best_params_)\n",
        "    cm.append(confusion_matrix(y_test, pred))\n",
        "    bacc_per_fold.append(balanced_accuracy_score(y_test, pred))\n",
        "    acc_per_fold.append(accuracy_score(y_test, pred))\n",
        "    pre_per_fold.append(precision_score(y_test, pred))\n",
        "    rec_per_fold.append(recall_score(y_test, pred))\n",
        "    print('for')\n",
        "\n",
        "print(\"bacc: {} +- {}, acc: {} +- {}, pr: {} +- {}, rec: {} +- {}\".format(np.mean(bacc_per_fold), np.std(bacc_per_fold),np.mean(acc_per_fold), np.std(acc_per_fold),\n",
        "                                                              np.mean(pre_per_fold), np.std(pre_per_fold),\n",
        "                                                              np.mean(rec_per_fold), np.std(rec_per_fold)))"
      ]
    },
    {
      "cell_type": "code",
      "execution_count": null,
      "metadata": {
        "colab": {
          "base_uri": "https://localhost:8080/"
        },
        "id": "EdEwrpYELoxb",
        "outputId": "0c66750a-5b52-4e0c-8981-86f4a3bd8155"
      },
      "outputs": [
        {
          "name": "stdout",
          "output_type": "stream",
          "text": [
            "list cm: [array([[10,  8],\n",
            "       [15, 30]]), array([[11,  7],\n",
            "       [12, 33]]), array([[ 3, 12],\n",
            "       [ 6, 42]]), array([[ 5, 10],\n",
            "       [10, 38]]), array([[11,  4],\n",
            "       [10, 35]])] \n",
            " cm: [[ 40  41]\n",
            " [ 53 178]]\n",
            "hiperparametros: [{'activation': 'relu', 'alpha': 0.05, 'hidden_layer_sizes': (50, 50, 50), 'learning_rate': 'constant', 'solver': 'adam'}, {'activation': 'relu', 'alpha': 0.05, 'hidden_layer_sizes': (50, 50, 50), 'learning_rate': 'adaptive', 'solver': 'adam'}, {'activation': 'relu', 'alpha': 0.0001, 'hidden_layer_sizes': (50, 100, 50), 'learning_rate': 'adaptive', 'solver': 'adam'}, {'activation': 'relu', 'alpha': 0.0001, 'hidden_layer_sizes': (50, 100, 50), 'learning_rate': 'adaptive', 'solver': 'adam'}, {'activation': 'relu', 'alpha': 0.0001, 'hidden_layer_sizes': (50, 100, 50), 'learning_rate': 'adaptive', 'solver': 'adam'}]\n",
            "bacc: [0.6111111111111112, 0.6722222222222223, 0.5375, 0.5625, 0.7555555555555555], acc: [0.6349206349206349, 0.6984126984126984, 0.7142857142857143, 0.6825396825396826, 0.7666666666666667], pr: [0.7894736842105263, 0.825, 0.7777777777777778, 0.7916666666666666, 0.8974358974358975], rec: [0.6666666666666666, 0.7333333333333333, 0.875, 0.7916666666666666, 0.7777777777777778]\n"
          ]
        }
      ],
      "source": [
        "print('list cm: {} \\n cm: {}'.format(cm, sum(cm)))\n",
        "print('hiperparametros: {}'.format(hp))\n",
        "print(\"bacc: {}, acc: {}, pr: {}, rec: {}\".format(bacc_per_fold,acc_per_fold,pre_per_fold,rec_per_fold))"
      ]
    },
    {
      "cell_type": "markdown",
      "metadata": {
        "id": "j8lu5GKBLoxb"
      },
      "source": [
        "**plsda**"
      ]
    },
    {
      "cell_type": "code",
      "execution_count": null,
      "metadata": {
        "colab": {
          "base_uri": "https://localhost:8080/"
        },
        "id": "WggV_q_PLoxb",
        "outputId": "5ef750dc-ded8-4b70-eb45-87cab93af9c0"
      },
      "outputs": [
        {
          "name": "stdout",
          "output_type": "stream",
          "text": [
            "for\n",
            "for\n",
            "for\n",
            "for\n",
            "for\n",
            "bacc: 0.6001388888888888 +- 0.1394864921111771, acc: 0.6411111111111111 +- 0.09916303816478217, pr: 0.345406162464986 +- 0.1124981864059194, rec: 0.5288888888888889 +- 0.3221532493230244\n"
          ]
        }
      ],
      "source": [
        "kf = StratifiedKFold(n_splits=5, shuffle=False)\n",
        "\n",
        "bacc_per_fold = []\n",
        "acc_per_fold = []\n",
        "pre_per_fold = []\n",
        "rec_per_fold = []\n",
        "cm = []\n",
        "hp = []\n",
        "\n",
        "for train_index, test_index in kf.split(numero_sus, y_numero_sus):\n",
        "    index_train_sus, index_test_sus = X.id.isin(numero_sus[train_index]), X.id.isin(numero_sus[test_index])\n",
        "    \n",
        "    X_train, y_train = X_50[index_train_sus], y[index_train_sus]\n",
        "    X_test, y_test = X_50[index_test_sus], y[index_test_sus]\n",
        "\n",
        "    rus = SMOTE(random_state=42)\n",
        "    X_train, y_train = rus.fit_resample(X_train, y_train)\n",
        "    \n",
        "    y_train = get_dummy_matrix(y_train)\n",
        "    y_test = get_dummy_matrix(y_test.values)\n",
        "    \n",
        "    pls_da = PLSRegression(n_components=2)\n",
        "    pls_da.fit(X_train, np.transpose(y_train))\n",
        "    preds = pls_da.predict(X_test)\n",
        "    normalized_pred = []\n",
        "    normalized_true = []\n",
        "\n",
        "        \n",
        "    for i in range(0, preds.shape[0]):\n",
        "        index_pred = np.argmax(preds[i])\n",
        "        normalized_pred.append(index_pred+1)\n",
        "        index_true = np.argmax(np.transpose(y_test)[i])\n",
        "        normalized_true.append(index_true+1)\n",
        "    \n",
        "    cm.append(confusion_matrix(normalized_true, normalized_pred))\n",
        "    bacc_per_fold.append(balanced_accuracy_score(normalized_true, normalized_pred))\n",
        "    acc_per_fold.append(accuracy_score(normalized_true, normalized_pred))\n",
        "    pre_per_fold.append(precision_score(normalized_true, normalized_pred))\n",
        "    rec_per_fold.append(recall_score(normalized_true, normalized_pred))\n",
        "    print('for')\n",
        "\n",
        "print(\"bacc: {} +- {}, acc: {} +- {}, pr: {} +- {}, rec: {} +- {}\".format(np.mean(bacc_per_fold), np.std(bacc_per_fold),np.mean(acc_per_fold), np.std(acc_per_fold),\n",
        "                                                              np.mean(pre_per_fold), np.std(pre_per_fold),\n",
        "                                                              np.mean(rec_per_fold), np.std(rec_per_fold)))"
      ]
    },
    {
      "cell_type": "code",
      "execution_count": null,
      "metadata": {
        "colab": {
          "base_uri": "https://localhost:8080/"
        },
        "id": "zglyxSO1Loxc",
        "outputId": "902ec095-60d3-4b79-d25e-af6241836f6e"
      },
      "outputs": [
        {
          "name": "stdout",
          "output_type": "stream",
          "text": [
            "list cm: [array([[ 8, 10],\n",
            "       [24, 21]]), array([[18,  0],\n",
            "       [16, 29]]), array([[ 3, 12],\n",
            "       [ 6, 42]]), array([[ 3, 12],\n",
            "       [11, 37]]), array([[12,  3],\n",
            "       [18, 27]])] \n",
            " cm: [[ 44  37]\n",
            " [ 75 156]]\n",
            "bacc: [0.45555555555555555, 0.8222222222222222, 0.5375, 0.4854166666666667, 0.7], acc: [0.4603174603174603, 0.746031746031746, 0.7142857142857143, 0.6349206349206349, 0.65], pr: [0.25, 0.5294117647058824, 0.3333333333333333, 0.21428571428571427, 0.4], rec: [0.4444444444444444, 1.0, 0.2, 0.2, 0.8]\n"
          ]
        }
      ],
      "source": [
        "print('list cm: {} \\n cm: {}'.format(cm, sum(cm)))\n",
        "#print('hiperparametros: {}'.format(hp))\n",
        "print(\"bacc: {}, acc: {}, pr: {}, rec: {}\".format(bacc_per_fold,acc_per_fold,pre_per_fold,rec_per_fold))"
      ]
    },
    {
      "cell_type": "code",
      "execution_count": null,
      "metadata": {
        "id": "_s8MahjhMNmt"
      },
      "outputs": [],
      "source": []
    },
    {
      "cell_type": "markdown",
      "metadata": {
        "id": "HjJbMPImMcn9"
      },
      "source": [
        "**oversampling**"
      ]
    },
    {
      "cell_type": "markdown",
      "metadata": {
        "id": "5wIXLAOhMzTa"
      },
      "source": [
        "**svm**"
      ]
    },
    {
      "cell_type": "code",
      "execution_count": null,
      "metadata": {
        "colab": {
          "base_uri": "https://localhost:8080/"
        },
        "id": "OdaMZ359MzTp",
        "outputId": "f6de10a1-0cd5-49f2-f47e-8980138bb02f"
      },
      "outputs": [
        {
          "name": "stdout",
          "output_type": "stream",
          "text": [
            "bacc: 0.5284722222222221 +- 0.14978637050854615, acc: 0.6488888888888888 +- 0.07720488720420267, pr: 0.7628262413585227 +- 0.08065739349598368, rec: 0.7747222222222222 +- 0.01830806339253788\n"
          ]
        }
      ],
      "source": [
        "kf = StratifiedKFold(n_splits=5, shuffle=False)\n",
        "\n",
        "bacc_per_fold = []\n",
        "acc_per_fold = []\n",
        "pre_per_fold = []\n",
        "rec_per_fold = []\n",
        "cm = []\n",
        "hp = []\n",
        "\n",
        "for train_index, test_index in kf.split(numero_sus, y_numero_sus):\n",
        "    index_train_sus, index_test_sus = X.id.isin(numero_sus[train_index]), X.id.isin(numero_sus[test_index])\n",
        "    X_train, y_train = X.loc[index_train_sus,cols], y[index_train_sus]\n",
        "    X_test, y_test = X.loc[index_test_sus,cols], y[index_test_sus]\n",
        "\n",
        "    rus = SMOTE(random_state=42)\n",
        "    X_train, y_train = rus.fit_resample(X_train, y_train)\n",
        "    \n",
        "    grade={'C':[1,10,100,1000],\n",
        "       'gamma':[1,0.1,0.001,0.0001], \n",
        "       'kernel':['linear','rbf']}\n",
        "\n",
        "    model = SVC()\n",
        "    gs = GridSearchCV(estimator=model, param_grid = grade,\n",
        "                  scoring='balanced_accuracy', cv = 5)\n",
        "    gs.fit(X_train, y_train)\n",
        "    \n",
        "    pred = gs.predict(X_test)\n",
        "    \n",
        "    hp.append(gs.best_params_)\n",
        "    cm.append(confusion_matrix(y_test, pred))\n",
        "    bacc_per_fold.append(balanced_accuracy_score(y_test, pred))\n",
        "    acc_per_fold.append(accuracy_score(y_test, pred))\n",
        "    pre_per_fold.append(precision_score(y_test, pred))\n",
        "    rec_per_fold.append(recall_score(y_test, pred))\n",
        "\n",
        "print(\"bacc: {} +- {}, acc: {} +- {}, pr: {} +- {}, rec: {} +- {}\".format(np.mean(bacc_per_fold), np.std(bacc_per_fold),np.mean(acc_per_fold), np.std(acc_per_fold),\n",
        "                                                              np.mean(pre_per_fold), np.std(pre_per_fold),\n",
        "                                                              np.mean(rec_per_fold), np.std(rec_per_fold)))"
      ]
    },
    {
      "cell_type": "code",
      "execution_count": null,
      "metadata": {
        "colab": {
          "base_uri": "https://localhost:8080/"
        },
        "id": "AxVbO9fmMzTq",
        "outputId": "066411ce-a388-407e-93e6-0f34b9ffa5b9"
      },
      "outputs": [
        {
          "name": "stdout",
          "output_type": "stream",
          "text": [
            "list cm: [array([[ 6, 12],\n",
            "       [11, 34]]), array([[ 5, 13],\n",
            "       [11, 34]]), array([[ 0, 15],\n",
            "       [10, 38]]), array([[ 0, 15],\n",
            "       [11, 37]]), array([[12,  3],\n",
            "       [ 9, 36]])] \n",
            " cm: [[ 23  58]\n",
            " [ 52 179]]\n",
            "hiperparametros: [{'C': 1000, 'gamma': 0.1, 'kernel': 'rbf'}, {'C': 1000, 'gamma': 1, 'kernel': 'rbf'}, {'C': 100, 'gamma': 1, 'kernel': 'rbf'}, {'C': 100, 'gamma': 1, 'kernel': 'rbf'}, {'C': 10, 'gamma': 1, 'kernel': 'rbf'}]\n",
            "bacc: [0.5444444444444444, 0.5166666666666666, 0.3958333333333333, 0.3854166666666667, 0.8], acc: [0.6349206349206349, 0.6190476190476191, 0.6031746031746031, 0.5873015873015873, 0.8], pr: [0.7391304347826086, 0.723404255319149, 0.7169811320754716, 0.7115384615384616, 0.9230769230769231], rec: [0.7555555555555555, 0.7555555555555555, 0.7916666666666666, 0.7708333333333334, 0.8]\n"
          ]
        }
      ],
      "source": [
        "print('list cm: {} \\n cm: {}'.format(cm, sum(cm)))\n",
        "print('hiperparametros: {}'.format(hp))\n",
        "print(\"bacc: {}, acc: {}, pr: {}, rec: {}\".format(bacc_per_fold,acc_per_fold,pre_per_fold,rec_per_fold))"
      ]
    },
    {
      "cell_type": "markdown",
      "metadata": {
        "id": "uAzoJSi7MzTr"
      },
      "source": [
        "**knn**"
      ]
    },
    {
      "cell_type": "code",
      "execution_count": null,
      "metadata": {
        "colab": {
          "base_uri": "https://localhost:8080/"
        },
        "id": "HUoNbuKmMzTr",
        "outputId": "870ae487-a0be-4f78-ee9f-e7e05ee621ce"
      },
      "outputs": [
        {
          "name": "stdout",
          "output_type": "stream",
          "text": [
            "bacc: 0.5104166666666667 +- 0.1784049267852056, acc: 0.6017460317460317 +- 0.14263863359342321, pr: 0.7448544068790307 +- 0.0964731306936348, rec: 0.6986111111111112 +- 0.1298087386964965\n"
          ]
        }
      ],
      "source": [
        "kf = StratifiedKFold(n_splits=5, shuffle=False)\n",
        "\n",
        "bacc_per_fold = []\n",
        "acc_per_fold = []\n",
        "pre_per_fold = []\n",
        "rec_per_fold = []\n",
        "cm = []\n",
        "hp = []\n",
        "\n",
        "for train_index, test_index in kf.split(numero_sus, y_numero_sus):\n",
        "    index_train_sus, index_test_sus = X.id.isin(numero_sus[train_index]), X.id.isin(numero_sus[test_index])\n",
        "    X_train, y_train = X.loc[index_train_sus,cols], y[index_train_sus]\n",
        "    X_test, y_test = X.loc[index_test_sus,cols], y[index_test_sus]\n",
        "\n",
        "    rus = SMOTE(random_state=42)\n",
        "    X_train, y_train = rus.fit_resample(X_train, y_train)\n",
        "    \n",
        "    grade={'n_neighbors': list(range(31))}\n",
        "\n",
        "    model = KNeighborsClassifier()\n",
        "    gs = GridSearchCV(estimator=model, param_grid = grade,\n",
        "                  scoring='balanced_accuracy', cv = 5)\n",
        "    gs.fit(X_train, y_train)\n",
        "    \n",
        "    pred = gs.predict(X_test)\n",
        "    \n",
        "    hp.append(gs.best_params_)\n",
        "    cm.append(confusion_matrix(y_test, pred))\n",
        "    bacc_per_fold.append(balanced_accuracy_score(y_test, pred))\n",
        "    acc_per_fold.append(accuracy_score(y_test, pred))\n",
        "    pre_per_fold.append(precision_score(y_test, pred))\n",
        "    rec_per_fold.append(recall_score(y_test, pred))\n",
        "\n",
        "print(\"bacc: {} +- {}, acc: {} +- {}, pr: {} +- {}, rec: {} +- {}\".format(np.mean(bacc_per_fold), np.std(bacc_per_fold),np.mean(acc_per_fold), np.std(acc_per_fold),\n",
        "                                                              np.mean(pre_per_fold), np.std(pre_per_fold),\n",
        "                                                              np.mean(rec_per_fold), np.std(rec_per_fold)))"
      ]
    },
    {
      "cell_type": "code",
      "execution_count": null,
      "metadata": {
        "colab": {
          "base_uri": "https://localhost:8080/"
        },
        "id": "st6IbjKLMzTs",
        "outputId": "e3e699d6-e1a3-4d14-9f6f-8da3fd7ae100"
      },
      "outputs": [
        {
          "name": "stdout",
          "output_type": "stream",
          "text": [
            "list cm: [array([[ 7, 11],\n",
            "       [21, 24]]), array([[ 4, 14],\n",
            "       [ 8, 37]]), array([[ 0, 15],\n",
            "       [20, 28]]), array([[ 3, 12],\n",
            "       [15, 33]]), array([[12,  3],\n",
            "       [ 6, 39]])] \n",
            " cm: [[ 26  55]\n",
            " [ 70 161]]\n",
            "hiperparametros: [{'n_neighbors': 1}, {'n_neighbors': 1}, {'n_neighbors': 1}, {'n_neighbors': 1}, {'n_neighbors': 1}]\n",
            "bacc: [0.46111111111111114, 0.5222222222222221, 0.2916666666666667, 0.44375, 0.8333333333333334], acc: [0.49206349206349204, 0.6507936507936508, 0.4444444444444444, 0.5714285714285714, 0.85], pr: [0.6857142857142857, 0.7254901960784313, 0.6511627906976745, 0.7333333333333333, 0.9285714285714286], rec: [0.5333333333333333, 0.8222222222222222, 0.5833333333333334, 0.6875, 0.8666666666666667]\n"
          ]
        }
      ],
      "source": [
        "print('list cm: {} \\n cm: {}'.format(cm, sum(cm)))\n",
        "print('hiperparametros: {}'.format(hp))\n",
        "print(\"bacc: {}, acc: {}, pr: {}, rec: {}\".format(bacc_per_fold,acc_per_fold,pre_per_fold,rec_per_fold))"
      ]
    },
    {
      "cell_type": "markdown",
      "metadata": {
        "id": "gfIK5SIeMzTs"
      },
      "source": [
        "**xgboost**"
      ]
    },
    {
      "cell_type": "code",
      "execution_count": null,
      "metadata": {
        "colab": {
          "base_uri": "https://localhost:8080/"
        },
        "id": "qYE3xvJ_MzTs",
        "outputId": "1813d998-3fb9-49e1-ae95-5245155351a7"
      },
      "outputs": [
        {
          "name": "stdout",
          "output_type": "stream",
          "text": [
            "for\n",
            "for\n",
            "for\n",
            "for\n",
            "for\n",
            "bacc: 0.5779166666666666 +- 0.1298773756897227, acc: 0.6963492063492064 +- 0.09050069286708823, pr: 0.7822539116656764 +- 0.0677009089509289, rec: 0.8225000000000001 +- 0.09083120962519056\n"
          ]
        }
      ],
      "source": [
        "kf = StratifiedKFold(n_splits=5, shuffle=False)\n",
        "\n",
        "bacc_per_fold = []\n",
        "acc_per_fold = []\n",
        "pre_per_fold = []\n",
        "rec_per_fold = []\n",
        "cm = []\n",
        "hp = []\n",
        "\n",
        "for train_index, test_index in kf.split(numero_sus, y_numero_sus):\n",
        "    index_train_sus, index_test_sus = X.id.isin(numero_sus[train_index]), X.id.isin(numero_sus[test_index])\n",
        "    X_train, y_train = X.loc[index_train_sus,cols], y[index_train_sus]\n",
        "    X_test, y_test = X.loc[index_test_sus,cols], y[index_test_sus]\n",
        "\n",
        "    rus = SMOTE(random_state=42)\n",
        "    X_train, y_train = rus.fit_resample(X_train, y_train)\n",
        "    \n",
        "    grade={\n",
        "        'colsample_bytree': [0.6, 0.8, 1.0],\n",
        "        'n_estimators': [10, 25, 50],\n",
        "       'max_depth': [5, 10, 20],\n",
        "       'max_features': ['auto', 'sqrt'],\n",
        "       'min_samples_leaf': [1, 2, 4],\n",
        "       'min_samples_split': [2, 5, 10]\n",
        "        }\n",
        "\n",
        "    model = XGBClassifier()\n",
        "    gs = GridSearchCV(estimator=model, param_grid = grade,\n",
        "                  scoring='balanced_accuracy', cv = 5)\n",
        "    gs.fit(X_train, y_train)\n",
        "    \n",
        "    pred = gs.predict(X_test)\n",
        "    \n",
        "    hp.append(gs.best_params_)\n",
        "    cm.append(confusion_matrix(y_test, pred))\n",
        "    bacc_per_fold.append(balanced_accuracy_score(y_test, pred))\n",
        "    acc_per_fold.append(accuracy_score(y_test, pred))\n",
        "    pre_per_fold.append(precision_score(y_test, pred))\n",
        "    rec_per_fold.append(recall_score(y_test, pred))\n",
        "    print('for')\n",
        "\n",
        "print(\"bacc: {} +- {}, acc: {} +- {}, pr: {} +- {}, rec: {} +- {}\".format(np.mean(bacc_per_fold), np.std(bacc_per_fold),np.mean(acc_per_fold), np.std(acc_per_fold),\n",
        "                                                              np.mean(pre_per_fold), np.std(pre_per_fold),\n",
        "                                                              np.mean(rec_per_fold), np.std(rec_per_fold)))"
      ]
    },
    {
      "cell_type": "code",
      "execution_count": null,
      "metadata": {
        "colab": {
          "base_uri": "https://localhost:8080/"
        },
        "id": "Oq0sP1KbMzTt",
        "outputId": "dc50d23b-f6e9-4bea-bbab-c4b858bba600"
      },
      "outputs": [
        {
          "name": "stdout",
          "output_type": "stream",
          "text": [
            "list cm: [array([[ 6, 12],\n",
            "       [13, 32]]), array([[ 6, 12],\n",
            "       [ 2, 43]]), array([[ 0, 15],\n",
            "       [12, 36]]), array([[ 4, 11],\n",
            "       [ 5, 43]]), array([[11,  4],\n",
            "       [ 9, 36]])] \n",
            " cm: [[ 27  54]\n",
            " [ 41 190]]\n",
            "hiperparametros: [{'colsample_bytree': 0.6, 'max_depth': 10, 'max_features': 'auto', 'min_samples_leaf': 1, 'min_samples_split': 2, 'n_estimators': 50}, {'colsample_bytree': 0.8, 'max_depth': 5, 'max_features': 'auto', 'min_samples_leaf': 1, 'min_samples_split': 2, 'n_estimators': 50}, {'colsample_bytree': 0.8, 'max_depth': 5, 'max_features': 'auto', 'min_samples_leaf': 1, 'min_samples_split': 2, 'n_estimators': 50}, {'colsample_bytree': 0.6, 'max_depth': 10, 'max_features': 'auto', 'min_samples_leaf': 1, 'min_samples_split': 2, 'n_estimators': 50}, {'colsample_bytree': 1.0, 'max_depth': 10, 'max_features': 'auto', 'min_samples_leaf': 1, 'min_samples_split': 2, 'n_estimators': 25}]\n",
            "bacc: [0.5222222222222223, 0.6444444444444445, 0.375, 0.58125, 0.7666666666666666], acc: [0.6031746031746031, 0.7777777777777778, 0.5714285714285714, 0.746031746031746, 0.7833333333333333], pr: [0.7272727272727273, 0.7818181818181819, 0.7058823529411765, 0.7962962962962963, 0.9], rec: [0.7111111111111111, 0.9555555555555556, 0.75, 0.8958333333333334, 0.8]\n"
          ]
        }
      ],
      "source": [
        "print('list cm: {} \\n cm: {}'.format(cm, sum(cm)))\n",
        "print('hiperparametros: {}'.format(hp))\n",
        "print(\"bacc: {}, acc: {}, pr: {}, rec: {}\".format(bacc_per_fold,acc_per_fold,pre_per_fold,rec_per_fold))"
      ]
    },
    {
      "cell_type": "markdown",
      "metadata": {
        "id": "cvWzLJ-YMzTt"
      },
      "source": [
        "**mlp**"
      ]
    },
    {
      "cell_type": "code",
      "execution_count": null,
      "metadata": {
        "colab": {
          "base_uri": "https://localhost:8080/"
        },
        "id": "ClTaJfC2MzTt",
        "outputId": "e6ff1136-b8c9-41c2-86c6-b580b3b765d3"
      },
      "outputs": [
        {
          "name": "stdout",
          "output_type": "stream",
          "text": [
            "for\n",
            "for\n",
            "for\n",
            "for\n",
            "for\n",
            "bacc: 0.5484722222222222 +- 0.15437448455454508, acc: 0.6587301587301588 +- 0.11088412188300306, pr: 0.7680558861932896 +- 0.0867994872675721, rec: 0.7747222222222223 +- 0.0934853259760028\n"
          ]
        }
      ],
      "source": [
        "kf = StratifiedKFold(n_splits=5, shuffle=False)\n",
        "\n",
        "bacc_per_fold = []\n",
        "acc_per_fold = []\n",
        "pre_per_fold = []\n",
        "rec_per_fold = []\n",
        "cm = []\n",
        "hp = []\n",
        "\n",
        "for train_index, test_index in kf.split(numero_sus, y_numero_sus):\n",
        "    index_train_sus, index_test_sus = X.id.isin(numero_sus[train_index]), X.id.isin(numero_sus[test_index])\n",
        "    X_train, y_train = X.loc[index_train_sus,cols], y[index_train_sus]\n",
        "    X_test, y_test = X.loc[index_test_sus,cols], y[index_test_sus]\n",
        "\n",
        "    rus = SMOTE(random_state=42)\n",
        "    X_train, y_train = rus.fit_resample(X_train, y_train)\n",
        "    \n",
        "    grade={\n",
        "    'hidden_layer_sizes': [(50,50,50), (50,100,50), (50,100)],\n",
        "    'activation': ['tanh', 'relu'],\n",
        "    'solver': ['sgd', 'adam'],\n",
        "    'alpha': [0.0001, 0.05],\n",
        "    'learning_rate': ['constant','adaptive'],\n",
        "    }\n",
        "\n",
        "    model = MLPClassifier()\n",
        "    gs = GridSearchCV(estimator=model, param_grid = grade,\n",
        "                  scoring='balanced_accuracy', cv = 5)\n",
        "    gs.fit(X_train, y_train)\n",
        "    \n",
        "    pred = gs.predict(X_test)\n",
        "    \n",
        "    hp.append(gs.best_params_)\n",
        "    cm.append(confusion_matrix(y_test, pred))\n",
        "    bacc_per_fold.append(balanced_accuracy_score(y_test, pred))\n",
        "    acc_per_fold.append(accuracy_score(y_test, pred))\n",
        "    pre_per_fold.append(precision_score(y_test, pred))\n",
        "    rec_per_fold.append(recall_score(y_test, pred))\n",
        "    print('for')\n",
        "\n",
        "print(\"bacc: {} +- {}, acc: {} +- {}, pr: {} +- {}, rec: {} +- {}\".format(np.mean(bacc_per_fold), np.std(bacc_per_fold),np.mean(acc_per_fold), np.std(acc_per_fold),\n",
        "                                                              np.mean(pre_per_fold), np.std(pre_per_fold),\n",
        "                                                              np.mean(rec_per_fold), np.std(rec_per_fold)))"
      ]
    },
    {
      "cell_type": "code",
      "execution_count": null,
      "metadata": {
        "colab": {
          "base_uri": "https://localhost:8080/"
        },
        "id": "G30lA52kMzTu",
        "outputId": "0266e5df-3ea8-4e45-fa95-0acfdd9061ff"
      },
      "outputs": [
        {
          "name": "stdout",
          "output_type": "stream",
          "text": [
            "list cm: [array([[ 4, 14],\n",
            "       [17, 28]]), array([[ 7, 11],\n",
            "       [ 7, 38]]), array([[ 3, 12],\n",
            "       [14, 34]]), array([[ 0, 15],\n",
            "       [ 7, 41]]), array([[12,  3],\n",
            "       [ 7, 38]])] \n",
            " cm: [[ 26  55]\n",
            " [ 52 179]]\n",
            "hiperparametros: [{'activation': 'relu', 'alpha': 0.0001, 'hidden_layer_sizes': (50, 100, 50), 'learning_rate': 'constant', 'solver': 'adam'}, {'activation': 'relu', 'alpha': 0.05, 'hidden_layer_sizes': (50, 100, 50), 'learning_rate': 'adaptive', 'solver': 'adam'}, {'activation': 'tanh', 'alpha': 0.0001, 'hidden_layer_sizes': (50, 100, 50), 'learning_rate': 'constant', 'solver': 'adam'}, {'activation': 'relu', 'alpha': 0.0001, 'hidden_layer_sizes': (50, 100, 50), 'learning_rate': 'adaptive', 'solver': 'adam'}, {'activation': 'relu', 'alpha': 0.0001, 'hidden_layer_sizes': (50, 100, 50), 'learning_rate': 'adaptive', 'solver': 'adam'}]\n",
            "bacc: [0.4222222222222222, 0.6166666666666667, 0.4541666666666667, 0.4270833333333333, 0.8222222222222222], acc: [0.5079365079365079, 0.7142857142857143, 0.5873015873015873, 0.6507936507936508, 0.8333333333333334], pr: [0.6666666666666666, 0.7755102040816326, 0.7391304347826086, 0.7321428571428571, 0.926829268292683], rec: [0.6222222222222222, 0.8444444444444444, 0.7083333333333334, 0.8541666666666666, 0.8444444444444444]\n"
          ]
        }
      ],
      "source": [
        "print('list cm: {} \\n cm: {}'.format(cm, sum(cm)))\n",
        "print('hiperparametros: {}'.format(hp))\n",
        "print(\"bacc: {}, acc: {}, pr: {}, rec: {}\".format(bacc_per_fold,acc_per_fold,pre_per_fold,rec_per_fold))"
      ]
    },
    {
      "cell_type": "markdown",
      "metadata": {
        "id": "9rT9fYmKMzTu"
      },
      "source": [
        "**plsda**"
      ]
    },
    {
      "cell_type": "code",
      "execution_count": null,
      "metadata": {
        "colab": {
          "base_uri": "https://localhost:8080/"
        },
        "id": "gpXtPf_OMzTv",
        "outputId": "b7d2e351-50ea-4e9f-9d5d-0f61182948b7"
      },
      "outputs": [
        {
          "name": "stdout",
          "output_type": "stream",
          "text": [
            "for\n",
            "for\n",
            "for\n",
            "for\n",
            "for\n",
            "bacc: 0.5916666666666666 +- 0.14530526083786677, acc: 0.6168253968253968 +- 0.09427876624498353, pr: 0.3255599472990777 +- 0.14101295462969757, rec: 0.5533333333333333 +- 0.3124099870362662\n"
          ]
        }
      ],
      "source": [
        "kf = StratifiedKFold(n_splits=5, shuffle=False)\n",
        "\n",
        "bacc_per_fold = []\n",
        "acc_per_fold = []\n",
        "pre_per_fold = []\n",
        "rec_per_fold = []\n",
        "cm = []\n",
        "hp = []\n",
        "\n",
        "for train_index, test_index in kf.split(numero_sus, y_numero_sus):\n",
        "    index_train_sus, index_test_sus = X.id.isin(numero_sus[train_index]), X.id.isin(numero_sus[test_index])\n",
        "    \n",
        "    X_train, y_train = X.loc[index_train_sus,cols], y[index_train_sus]\n",
        "    X_test, y_test = X.loc[index_test_sus,cols], y[index_test_sus]\n",
        "\n",
        "    rus = SMOTE(random_state=42)\n",
        "    X_train, y_train = rus.fit_resample(X_train, y_train)\n",
        "    \n",
        "    y_train = get_dummy_matrix(y_train)\n",
        "    y_test = get_dummy_matrix(y_test.values)\n",
        "    \n",
        "    pls_da = PLSRegression(n_components=2)\n",
        "    pls_da.fit(X_train, np.transpose(y_train))\n",
        "    preds = pls_da.predict(X_test)\n",
        "    normalized_pred = []\n",
        "    normalized_true = []\n",
        "\n",
        "        \n",
        "    for i in range(0, preds.shape[0]):\n",
        "        index_pred = np.argmax(preds[i])\n",
        "        normalized_pred.append(index_pred+1)\n",
        "        index_true = np.argmax(np.transpose(y_test)[i])\n",
        "        normalized_true.append(index_true+1)\n",
        "    \n",
        "    cm.append(confusion_matrix(normalized_true, normalized_pred))\n",
        "    bacc_per_fold.append(balanced_accuracy_score(normalized_true, normalized_pred))\n",
        "    acc_per_fold.append(accuracy_score(normalized_true, normalized_pred))\n",
        "    pre_per_fold.append(precision_score(normalized_true, normalized_pred))\n",
        "    rec_per_fold.append(recall_score(normalized_true, normalized_pred))\n",
        "    print('for')\n",
        "\n",
        "print(\"bacc: {} +- {}, acc: {} +- {}, pr: {} +- {}, rec: {} +- {}\".format(np.mean(bacc_per_fold), np.std(bacc_per_fold),np.mean(acc_per_fold), np.std(acc_per_fold),\n",
        "                                                              np.mean(pre_per_fold), np.std(pre_per_fold),\n",
        "                                                              np.mean(rec_per_fold), np.std(rec_per_fold)))"
      ]
    },
    {
      "cell_type": "code",
      "execution_count": null,
      "metadata": {
        "colab": {
          "base_uri": "https://localhost:8080/"
        },
        "id": "jTEn1TA5MzTv",
        "outputId": "febc9240-ef84-4a20-9afe-3c2927213939"
      },
      "outputs": [
        {
          "name": "stdout",
          "output_type": "stream",
          "text": [
            "list cm: [array([[ 9,  9],\n",
            "       [24, 21]]), array([[18,  0],\n",
            "       [22, 23]]), array([[ 5, 10],\n",
            "       [15, 33]]), array([[ 2, 13],\n",
            "       [13, 35]]), array([[12,  3],\n",
            "       [11, 34]])] \n",
            " cm: [[ 46  35]\n",
            " [ 85 146]]\n",
            "bacc: [0.48333333333333334, 0.7555555555555555, 0.5104166666666666, 0.43124999999999997, 0.7777777777777778], acc: [0.47619047619047616, 0.6507936507936508, 0.6031746031746031, 0.5873015873015873, 0.7666666666666667], pr: [0.2727272727272727, 0.45, 0.25, 0.13333333333333333, 0.5217391304347826], rec: [0.5, 1.0, 0.3333333333333333, 0.13333333333333333, 0.8]\n"
          ]
        }
      ],
      "source": [
        "print('list cm: {} \\n cm: {}'.format(cm, sum(cm)))\n",
        "#print('hiperparametros: {}'.format(hp))\n",
        "print(\"bacc: {}, acc: {}, pr: {}, rec: {}\".format(bacc_per_fold,acc_per_fold,pre_per_fold,rec_per_fold))"
      ]
    },
    {
      "cell_type": "code",
      "execution_count": null,
      "metadata": {
        "id": "_hoj7Vq-UU5N"
      },
      "outputs": [],
      "source": []
    },
    {
      "cell_type": "code",
      "execution_count": null,
      "metadata": {
        "id": "AQ0p4yWXUU7j"
      },
      "outputs": [],
      "source": []
    },
    {
      "cell_type": "code",
      "execution_count": null,
      "metadata": {
        "id": "Hx0WwzroUU_L"
      },
      "outputs": [],
      "source": []
    },
    {
      "cell_type": "code",
      "execution_count": null,
      "metadata": {
        "colab": {
          "base_uri": "https://localhost:8080/"
        },
        "id": "1lIoZYynUVDQ",
        "outputId": "8158e2fe-d982-461d-ea49-8043ffe01afb"
      },
      "outputs": [
        {
          "name": "stdout",
          "output_type": "stream",
          "text": [
            "for\n",
            "for\n",
            "for\n",
            "for\n",
            "for\n",
            "bacc: 0.6369444444444444 +- 0.12030568062283452, acc: 0.7223809523809523 +- 0.07438400768745433, pr: 0.8171886446886447 +- 0.0595582289890701, rec: 0.8094444444444445 +- 0.07604417169897189\n"
          ]
        }
      ],
      "source": [
        "kf = StratifiedKFold(n_splits=5, shuffle=False)\n",
        "\n",
        "bacc_per_fold = []\n",
        "acc_per_fold = []\n",
        "pre_per_fold = []\n",
        "rec_per_fold = []\n",
        "cm = []\n",
        "hp = []\n",
        "\n",
        "for train_index, test_index in kf.split(numero_sus, y_numero_sus):\n",
        "    index_train_sus, index_test_sus = X.id.isin(numero_sus[train_index]), X.id.isin(numero_sus[test_index])\n",
        "    X_train, y_train = X_25[index_train_sus], y[index_train_sus]\n",
        "    X_test, y_test = X_25[index_test_sus], y[index_test_sus]\n",
        "\n",
        "    rus = SMOTE(random_state=42)\n",
        "    X_train, y_train = rus.fit_resample(X_train, y_train)\n",
        "\n",
        "    model = XGBClassifier(colsample_bytree= 0.8,gamma= 5,max_depth= 10,max_features= 'auto',min_child_weight= 1,min_samples_leaf= 1,min_samples_split= 2,n_estimators= 25,subsample= 1.0)\n",
        "    #gs = GridSearchCV(estimator=model, param_grid = grade,\n",
        "    #              scoring='balanced_accuracy', cv = 5)\n",
        "    model.fit(X_train, y_train)\n",
        "    \n",
        "    pred = model.predict(X_test)\n",
        "    \n",
        "    #hp.append(gs.best_params_)\n",
        "    cm.append(confusion_matrix(y_test, pred))\n",
        "    bacc_per_fold.append(balanced_accuracy_score(y_test, pred))\n",
        "    acc_per_fold.append(accuracy_score(y_test, pred))\n",
        "    pre_per_fold.append(precision_score(y_test, pred))\n",
        "    rec_per_fold.append(recall_score(y_test, pred))\n",
        "    print('for')\n",
        "\n",
        "print(\"bacc: {} +- {}, acc: {} +- {}, pr: {} +- {}, rec: {} +- {}\".format(np.mean(bacc_per_fold), np.std(bacc_per_fold),np.mean(acc_per_fold), np.std(acc_per_fold),\n",
        "                                                              np.mean(pre_per_fold), np.std(pre_per_fold),\n",
        "                                                              np.mean(rec_per_fold), np.std(rec_per_fold)))"
      ]
    },
    {
      "cell_type": "code",
      "execution_count": null,
      "metadata": {
        "colab": {
          "base_uri": "https://localhost:8080/"
        },
        "id": "YRHkUm2ZUVDR",
        "outputId": "27b3369a-f3e1-436a-93ff-fd33517c51bf"
      },
      "outputs": [
        {
          "name": "stdout",
          "output_type": "stream",
          "text": [
            "list cm: [array([[10,  8],\n",
            "       [14, 31]]), array([[ 9,  9],\n",
            "       [ 6, 39]]), array([[ 1, 14],\n",
            "       [ 6, 42]]), array([[ 6,  9],\n",
            "       [12, 36]]), array([[12,  3],\n",
            "       [ 6, 39]])] \n",
            " cm: [[ 38  43]\n",
            " [ 44 187]]\n",
            "hiperparametros: []\n",
            "bacc: [0.6222222222222222, 0.6833333333333333, 0.4708333333333333, 0.575, 0.8333333333333334], acc: [0.6507936507936508, 0.7619047619047619, 0.6825396825396826, 0.6666666666666666, 0.85], pr: [0.7948717948717948, 0.8125, 0.75, 0.8, 0.9285714285714286], rec: [0.6888888888888889, 0.8666666666666667, 0.875, 0.75, 0.8666666666666667]\n"
          ]
        }
      ],
      "source": [
        "print('list cm: {} \\n cm: {}'.format(cm, sum(cm)))\n",
        "print('hiperparametros: {}'.format(hp))\n",
        "print(\"bacc: {}, acc: {}, pr: {}, rec: {}\".format(bacc_per_fold,acc_per_fold,pre_per_fold,rec_per_fold))"
      ]
    }
  ],
  "metadata": {
    "colab": {
      "name": "pad_resultados_finais3.ipynb",
      "provenance": []
    },
    "kernelspec": {
      "display_name": "Python 3",
      "name": "python3"
    },
    "language_info": {
      "name": "python"
    }
  },
  "nbformat": 4,
  "nbformat_minor": 0
}
